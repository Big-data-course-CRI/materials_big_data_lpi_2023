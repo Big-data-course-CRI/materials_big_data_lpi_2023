{
  "cells": [
    {
      "cell_type": "markdown",
      "id": "fc759772",
      "metadata": {
        "tags": [],
        "id": "fc759772"
      },
      "source": [
        "\n",
        "\n",
        "# Spatial data analysis \n",
        "\n",
        "Liubov, Marc \n",
        "\n",
        "See other sources \n",
        "* https://github.com/mszell/geospatialdatascience/ \n",
        "* Analyze Geospatial Data in Python: GeoPandas and Shapely: https://www.learndatasci.com/tutorials/geospatial-data-python-geopandas-shapely/\n",
        "* Automating GIS-Processes: https://autogis-site.readthedocs.io/en/latest/notebooks/L1/geometric-objects.html"
      ]
    },
    {
      "cell_type": "markdown",
      "id": "c9d1819d",
      "metadata": {
        "id": "c9d1819d"
      },
      "source": [
        "\n",
        "# Imports\n",
        "\n"
      ]
    },
    {
      "cell_type": "code",
      "source": [
        "!pip install geopandas "
      ],
      "metadata": {
        "colab": {
          "base_uri": "https://localhost:8080/"
        },
        "id": "k8Z5wScwBO5E",
        "outputId": "a6048a5f-773d-4606-9c29-770e0e6a12e3"
      },
      "id": "k8Z5wScwBO5E",
      "execution_count": 1,
      "outputs": [
        {
          "output_type": "stream",
          "name": "stdout",
          "text": [
            "Looking in indexes: https://pypi.org/simple, https://us-python.pkg.dev/colab-wheels/public/simple/\n",
            "Collecting geopandas\n",
            "  Downloading geopandas-0.12.2-py3-none-any.whl (1.1 MB)\n",
            "\u001b[2K     \u001b[90m━━━━━━━━━━━━━━━━━━━━━━━━━━━━━━━━━━━━━━━━\u001b[0m \u001b[32m1.1/1.1 MB\u001b[0m \u001b[31m14.4 MB/s\u001b[0m eta \u001b[36m0:00:00\u001b[0m\n",
            "\u001b[?25hCollecting pyproj>=2.6.1.post1\n",
            "  Downloading pyproj-3.4.1-cp38-cp38-manylinux_2_17_x86_64.manylinux2014_x86_64.whl (7.8 MB)\n",
            "\u001b[2K     \u001b[90m━━━━━━━━━━━━━━━━━━━━━━━━━━━━━━━━━━━━━━━━\u001b[0m \u001b[32m7.8/7.8 MB\u001b[0m \u001b[31m76.7 MB/s\u001b[0m eta \u001b[36m0:00:00\u001b[0m\n",
            "\u001b[?25hRequirement already satisfied: packaging in /usr/local/lib/python3.8/dist-packages (from geopandas) (21.3)\n",
            "Requirement already satisfied: pandas>=1.0.0 in /usr/local/lib/python3.8/dist-packages (from geopandas) (1.3.5)\n",
            "Collecting fiona>=1.8\n",
            "  Downloading Fiona-1.8.22-cp38-cp38-manylinux_2_17_x86_64.manylinux2014_x86_64.whl (16.6 MB)\n",
            "\u001b[2K     \u001b[90m━━━━━━━━━━━━━━━━━━━━━━━━━━━━━━━━━━━━━━━━\u001b[0m \u001b[32m16.6/16.6 MB\u001b[0m \u001b[31m72.4 MB/s\u001b[0m eta \u001b[36m0:00:00\u001b[0m\n",
            "\u001b[?25hRequirement already satisfied: shapely>=1.7 in /usr/local/lib/python3.8/dist-packages (from geopandas) (2.0.0)\n",
            "Requirement already satisfied: six>=1.7 in /usr/local/lib/python3.8/dist-packages (from fiona>=1.8->geopandas) (1.15.0)\n",
            "Collecting click-plugins>=1.0\n",
            "  Downloading click_plugins-1.1.1-py2.py3-none-any.whl (7.5 kB)\n",
            "Requirement already satisfied: click>=4.0 in /usr/local/lib/python3.8/dist-packages (from fiona>=1.8->geopandas) (7.1.2)\n",
            "Collecting cligj>=0.5\n",
            "  Downloading cligj-0.7.2-py3-none-any.whl (7.1 kB)\n",
            "Collecting munch\n",
            "  Downloading munch-2.5.0-py2.py3-none-any.whl (10 kB)\n",
            "Requirement already satisfied: certifi in /usr/local/lib/python3.8/dist-packages (from fiona>=1.8->geopandas) (2022.12.7)\n",
            "Requirement already satisfied: attrs>=17 in /usr/local/lib/python3.8/dist-packages (from fiona>=1.8->geopandas) (22.2.0)\n",
            "Requirement already satisfied: setuptools in /usr/local/lib/python3.8/dist-packages (from fiona>=1.8->geopandas) (57.4.0)\n",
            "Requirement already satisfied: python-dateutil>=2.7.3 in /usr/local/lib/python3.8/dist-packages (from pandas>=1.0.0->geopandas) (2.8.2)\n",
            "Requirement already satisfied: numpy>=1.17.3 in /usr/local/lib/python3.8/dist-packages (from pandas>=1.0.0->geopandas) (1.21.6)\n",
            "Requirement already satisfied: pytz>=2017.3 in /usr/local/lib/python3.8/dist-packages (from pandas>=1.0.0->geopandas) (2022.7)\n",
            "Requirement already satisfied: pyparsing!=3.0.5,>=2.0.2 in /usr/local/lib/python3.8/dist-packages (from packaging->geopandas) (3.0.9)\n",
            "Installing collected packages: pyproj, munch, cligj, click-plugins, fiona, geopandas\n",
            "Successfully installed click-plugins-1.1.1 cligj-0.7.2 fiona-1.8.22 geopandas-0.12.2 munch-2.5.0 pyproj-3.4.1\n"
          ]
        }
      ]
    },
    {
      "cell_type": "code",
      "source": [
        "!pip install contextily"
      ],
      "metadata": {
        "colab": {
          "base_uri": "https://localhost:8080/"
        },
        "id": "EVsmeDLGnbv4",
        "outputId": "ef4b9c82-9838-4eea-f73b-c9b81f4bf1e7"
      },
      "id": "EVsmeDLGnbv4",
      "execution_count": 2,
      "outputs": [
        {
          "output_type": "stream",
          "name": "stdout",
          "text": [
            "Looking in indexes: https://pypi.org/simple, https://us-python.pkg.dev/colab-wheels/public/simple/\n",
            "Collecting contextily\n",
            "  Downloading contextily-1.2.0-py3-none-any.whl (16 kB)\n",
            "Collecting mercantile\n",
            "  Downloading mercantile-1.2.1-py3-none-any.whl (14 kB)\n",
            "Requirement already satisfied: requests in /usr/local/lib/python3.8/dist-packages (from contextily) (2.25.1)\n",
            "Requirement already satisfied: geopy in /usr/local/lib/python3.8/dist-packages (from contextily) (1.17.0)\n",
            "Requirement already satisfied: pillow in /usr/local/lib/python3.8/dist-packages (from contextily) (7.1.2)\n",
            "Requirement already satisfied: matplotlib in /usr/local/lib/python3.8/dist-packages (from contextily) (3.2.2)\n",
            "Requirement already satisfied: joblib in /usr/local/lib/python3.8/dist-packages (from contextily) (1.2.0)\n",
            "Collecting rasterio\n",
            "  Downloading rasterio-1.3.4-cp38-cp38-manylinux_2_17_x86_64.manylinux2014_x86_64.whl (20.9 MB)\n",
            "\u001b[2K     \u001b[90m━━━━━━━━━━━━━━━━━━━━━━━━━━━━━━━━━━━━━━━━\u001b[0m \u001b[32m20.9/20.9 MB\u001b[0m \u001b[31m17.4 MB/s\u001b[0m eta \u001b[36m0:00:00\u001b[0m\n",
            "\u001b[?25hCollecting xyzservices\n",
            "  Downloading xyzservices-2022.9.0-py3-none-any.whl (55 kB)\n",
            "\u001b[2K     \u001b[90m━━━━━━━━━━━━━━━━━━━━━━━━━━━━━━━━━━━━━━━━\u001b[0m \u001b[32m55.9/55.9 KB\u001b[0m \u001b[31m8.1 MB/s\u001b[0m eta \u001b[36m0:00:00\u001b[0m\n",
            "\u001b[?25hRequirement already satisfied: geographiclib<2,>=1.49 in /usr/local/lib/python3.8/dist-packages (from geopy->contextily) (1.52)\n",
            "Requirement already satisfied: kiwisolver>=1.0.1 in /usr/local/lib/python3.8/dist-packages (from matplotlib->contextily) (1.4.4)\n",
            "Requirement already satisfied: numpy>=1.11 in /usr/local/lib/python3.8/dist-packages (from matplotlib->contextily) (1.21.6)\n",
            "Requirement already satisfied: python-dateutil>=2.1 in /usr/local/lib/python3.8/dist-packages (from matplotlib->contextily) (2.8.2)\n",
            "Requirement already satisfied: cycler>=0.10 in /usr/local/lib/python3.8/dist-packages (from matplotlib->contextily) (0.11.0)\n",
            "Requirement already satisfied: pyparsing!=2.0.4,!=2.1.2,!=2.1.6,>=2.0.1 in /usr/local/lib/python3.8/dist-packages (from matplotlib->contextily) (3.0.9)\n",
            "Requirement already satisfied: click>=3.0 in /usr/local/lib/python3.8/dist-packages (from mercantile->contextily) (7.1.2)\n",
            "Requirement already satisfied: attrs in /usr/local/lib/python3.8/dist-packages (from rasterio->contextily) (22.2.0)\n",
            "Collecting snuggs>=1.4.1\n",
            "  Downloading snuggs-1.4.7-py3-none-any.whl (5.4 kB)\n",
            "Requirement already satisfied: certifi in /usr/local/lib/python3.8/dist-packages (from rasterio->contextily) (2022.12.7)\n",
            "Requirement already satisfied: setuptools in /usr/local/lib/python3.8/dist-packages (from rasterio->contextily) (57.4.0)\n",
            "Requirement already satisfied: cligj>=0.5 in /usr/local/lib/python3.8/dist-packages (from rasterio->contextily) (0.7.2)\n",
            "Requirement already satisfied: click-plugins in /usr/local/lib/python3.8/dist-packages (from rasterio->contextily) (1.1.1)\n",
            "Collecting affine\n",
            "  Downloading affine-2.3.1-py2.py3-none-any.whl (16 kB)\n",
            "Requirement already satisfied: idna<3,>=2.5 in /usr/local/lib/python3.8/dist-packages (from requests->contextily) (2.10)\n",
            "Requirement already satisfied: urllib3<1.27,>=1.21.1 in /usr/local/lib/python3.8/dist-packages (from requests->contextily) (1.24.3)\n",
            "Requirement already satisfied: chardet<5,>=3.0.2 in /usr/local/lib/python3.8/dist-packages (from requests->contextily) (4.0.0)\n",
            "Requirement already satisfied: six>=1.5 in /usr/local/lib/python3.8/dist-packages (from python-dateutil>=2.1->matplotlib->contextily) (1.15.0)\n",
            "Installing collected packages: affine, xyzservices, snuggs, mercantile, rasterio, contextily\n",
            "Successfully installed affine-2.3.1 contextily-1.2.0 mercantile-1.2.1 rasterio-1.3.4 snuggs-1.4.7 xyzservices-2022.9.0\n"
          ]
        }
      ]
    },
    {
      "cell_type": "code",
      "execution_count": 3,
      "id": "b439cad2",
      "metadata": {
        "id": "b439cad2"
      },
      "outputs": [],
      "source": [
        "import geopandas as gpd # for data handling - ignore for now\n",
        "import contextily as ctx # for data plotting - ignore for now"
      ]
    },
    {
      "cell_type": "markdown",
      "id": "6ed3c66d",
      "metadata": {
        "tags": [],
        "id": "6ed3c66d"
      },
      "source": [
        "# John Snow and the 1854 cholera outbreak"
      ]
    },
    {
      "cell_type": "markdown",
      "id": "11ac6779",
      "metadata": {
        "id": "11ac6779"
      },
      "source": [
        "Let's explore all the data first:"
      ]
    },
    {
      "cell_type": "code",
      "execution_count": null,
      "id": "fa82d378",
      "metadata": {
        "scrolled": true,
        "id": "fa82d378"
      },
      "outputs": [],
      "source": []
    },
    {
      "cell_type": "markdown",
      "id": "c7f3e7ea",
      "metadata": {
        "id": "c7f3e7ea"
      },
      "source": [
        "There are:\n",
        "- [shapefiles](https://en.wikipedia.org/wiki/Shapefile) - they are usually groups of files contaning geospatial vector data, with the same name and extensions like .shp, .shx, .dbf. Here we only care about the .shp file which contains the geometric features.\n",
        "\n"
      ]
    },
    {
      "cell_type": "markdown",
      "id": "331fabd8",
      "metadata": {
        "id": "331fabd8"
      },
      "source": [
        "<img src=\"files/rastervector.jpg\">"
      ]
    },
    {
      "cell_type": "markdown",
      "id": "9374282e",
      "metadata": {
        "id": "9374282e"
      },
      "source": [
        "## Loading the data and ensuring Coordinate Reference System (CRS) consistency"
      ]
    },
    {
      "cell_type": "markdown",
      "id": "b4d57438",
      "metadata": {
        "id": "b4d57438"
      },
      "source": [
        "Load the data - deaths and water pumps:"
      ]
    },
    {
      "cell_type": "code",
      "execution_count": null,
      "id": "9a314c61",
      "metadata": {
        "id": "9a314c61"
      },
      "outputs": [],
      "source": [
        "deaths_df = gpd.read_file('Cholera_Deaths.shp')\n",
        "pumps_df = gpd.read_file('Pumps.shp')"
      ]
    },
    {
      "cell_type": "code",
      "execution_count": null,
      "id": "6c6d243c",
      "metadata": {
        "colab": {
          "base_uri": "https://localhost:8080/",
          "height": 206
        },
        "id": "6c6d243c",
        "outputId": "c63994e1-cdae-4c61-94ff-477a75de97cf"
      },
      "outputs": [
        {
          "output_type": "execute_result",
          "data": {
            "text/plain": [
              "   Id  Count                       geometry\n",
              "0   0      3  POINT (529308.741 181031.352)\n",
              "1   0      2  POINT (529312.164 181025.172)\n",
              "2   0      1  POINT (529314.382 181020.294)\n",
              "3   0      1  POINT (529317.380 181014.259)\n",
              "4   0      4  POINT (529320.675 181007.872)"
            ],
            "text/html": [
              "\n",
              "  <div id=\"df-7743cfb2-51b3-4709-80d6-4c47f80ccdc6\">\n",
              "    <div class=\"colab-df-container\">\n",
              "      <div>\n",
              "<style scoped>\n",
              "    .dataframe tbody tr th:only-of-type {\n",
              "        vertical-align: middle;\n",
              "    }\n",
              "\n",
              "    .dataframe tbody tr th {\n",
              "        vertical-align: top;\n",
              "    }\n",
              "\n",
              "    .dataframe thead th {\n",
              "        text-align: right;\n",
              "    }\n",
              "</style>\n",
              "<table border=\"1\" class=\"dataframe\">\n",
              "  <thead>\n",
              "    <tr style=\"text-align: right;\">\n",
              "      <th></th>\n",
              "      <th>Id</th>\n",
              "      <th>Count</th>\n",
              "      <th>geometry</th>\n",
              "    </tr>\n",
              "  </thead>\n",
              "  <tbody>\n",
              "    <tr>\n",
              "      <th>0</th>\n",
              "      <td>0</td>\n",
              "      <td>3</td>\n",
              "      <td>POINT (529308.741 181031.352)</td>\n",
              "    </tr>\n",
              "    <tr>\n",
              "      <th>1</th>\n",
              "      <td>0</td>\n",
              "      <td>2</td>\n",
              "      <td>POINT (529312.164 181025.172)</td>\n",
              "    </tr>\n",
              "    <tr>\n",
              "      <th>2</th>\n",
              "      <td>0</td>\n",
              "      <td>1</td>\n",
              "      <td>POINT (529314.382 181020.294)</td>\n",
              "    </tr>\n",
              "    <tr>\n",
              "      <th>3</th>\n",
              "      <td>0</td>\n",
              "      <td>1</td>\n",
              "      <td>POINT (529317.380 181014.259)</td>\n",
              "    </tr>\n",
              "    <tr>\n",
              "      <th>4</th>\n",
              "      <td>0</td>\n",
              "      <td>4</td>\n",
              "      <td>POINT (529320.675 181007.872)</td>\n",
              "    </tr>\n",
              "  </tbody>\n",
              "</table>\n",
              "</div>\n",
              "      <button class=\"colab-df-convert\" onclick=\"convertToInteractive('df-7743cfb2-51b3-4709-80d6-4c47f80ccdc6')\"\n",
              "              title=\"Convert this dataframe to an interactive table.\"\n",
              "              style=\"display:none;\">\n",
              "        \n",
              "  <svg xmlns=\"http://www.w3.org/2000/svg\" height=\"24px\"viewBox=\"0 0 24 24\"\n",
              "       width=\"24px\">\n",
              "    <path d=\"M0 0h24v24H0V0z\" fill=\"none\"/>\n",
              "    <path d=\"M18.56 5.44l.94 2.06.94-2.06 2.06-.94-2.06-.94-.94-2.06-.94 2.06-2.06.94zm-11 1L8.5 8.5l.94-2.06 2.06-.94-2.06-.94L8.5 2.5l-.94 2.06-2.06.94zm10 10l.94 2.06.94-2.06 2.06-.94-2.06-.94-.94-2.06-.94 2.06-2.06.94z\"/><path d=\"M17.41 7.96l-1.37-1.37c-.4-.4-.92-.59-1.43-.59-.52 0-1.04.2-1.43.59L10.3 9.45l-7.72 7.72c-.78.78-.78 2.05 0 2.83L4 21.41c.39.39.9.59 1.41.59.51 0 1.02-.2 1.41-.59l7.78-7.78 2.81-2.81c.8-.78.8-2.07 0-2.86zM5.41 20L4 18.59l7.72-7.72 1.47 1.35L5.41 20z\"/>\n",
              "  </svg>\n",
              "      </button>\n",
              "      \n",
              "  <style>\n",
              "    .colab-df-container {\n",
              "      display:flex;\n",
              "      flex-wrap:wrap;\n",
              "      gap: 12px;\n",
              "    }\n",
              "\n",
              "    .colab-df-convert {\n",
              "      background-color: #E8F0FE;\n",
              "      border: none;\n",
              "      border-radius: 50%;\n",
              "      cursor: pointer;\n",
              "      display: none;\n",
              "      fill: #1967D2;\n",
              "      height: 32px;\n",
              "      padding: 0 0 0 0;\n",
              "      width: 32px;\n",
              "    }\n",
              "\n",
              "    .colab-df-convert:hover {\n",
              "      background-color: #E2EBFA;\n",
              "      box-shadow: 0px 1px 2px rgba(60, 64, 67, 0.3), 0px 1px 3px 1px rgba(60, 64, 67, 0.15);\n",
              "      fill: #174EA6;\n",
              "    }\n",
              "\n",
              "    [theme=dark] .colab-df-convert {\n",
              "      background-color: #3B4455;\n",
              "      fill: #D2E3FC;\n",
              "    }\n",
              "\n",
              "    [theme=dark] .colab-df-convert:hover {\n",
              "      background-color: #434B5C;\n",
              "      box-shadow: 0px 1px 3px 1px rgba(0, 0, 0, 0.15);\n",
              "      filter: drop-shadow(0px 1px 2px rgba(0, 0, 0, 0.3));\n",
              "      fill: #FFFFFF;\n",
              "    }\n",
              "  </style>\n",
              "\n",
              "      <script>\n",
              "        const buttonEl =\n",
              "          document.querySelector('#df-7743cfb2-51b3-4709-80d6-4c47f80ccdc6 button.colab-df-convert');\n",
              "        buttonEl.style.display =\n",
              "          google.colab.kernel.accessAllowed ? 'block' : 'none';\n",
              "\n",
              "        async function convertToInteractive(key) {\n",
              "          const element = document.querySelector('#df-7743cfb2-51b3-4709-80d6-4c47f80ccdc6');\n",
              "          const dataTable =\n",
              "            await google.colab.kernel.invokeFunction('convertToInteractive',\n",
              "                                                     [key], {});\n",
              "          if (!dataTable) return;\n",
              "\n",
              "          const docLinkHtml = 'Like what you see? Visit the ' +\n",
              "            '<a target=\"_blank\" href=https://colab.research.google.com/notebooks/data_table.ipynb>data table notebook</a>'\n",
              "            + ' to learn more about interactive tables.';\n",
              "          element.innerHTML = '';\n",
              "          dataTable['output_type'] = 'display_data';\n",
              "          await google.colab.output.renderOutput(dataTable, element);\n",
              "          const docLink = document.createElement('div');\n",
              "          docLink.innerHTML = docLinkHtml;\n",
              "          element.appendChild(docLink);\n",
              "        }\n",
              "      </script>\n",
              "    </div>\n",
              "  </div>\n",
              "  "
            ]
          },
          "metadata": {},
          "execution_count": 5
        }
      ],
      "source": [
        "deaths_df.head()"
      ]
    },
    {
      "cell_type": "code",
      "execution_count": null,
      "id": "5c84804d-77b8-4360-85ad-436148b5920a",
      "metadata": {
        "colab": {
          "base_uri": "https://localhost:8080/"
        },
        "id": "5c84804d-77b8-4360-85ad-436148b5920a",
        "outputId": "8411ce8c-e29f-467b-fab4-560ab2aba1dc"
      },
      "outputs": [
        {
          "output_type": "execute_result",
          "data": {
            "text/plain": [
              "geopandas.geodataframe.GeoDataFrame"
            ]
          },
          "metadata": {},
          "execution_count": 6
        }
      ],
      "source": [
        "type(deaths_df)"
      ]
    },
    {
      "cell_type": "markdown",
      "id": "a25ec1cc",
      "metadata": {
        "id": "a25ec1cc"
      },
      "source": [
        "We can see how many deaths have occured and where. They are points, and there is an x and a y coordinate. What are they? The shape file's CRS tells us:"
      ]
    },
    {
      "cell_type": "code",
      "execution_count": null,
      "id": "56237312",
      "metadata": {
        "colab": {
          "base_uri": "https://localhost:8080/"
        },
        "id": "56237312",
        "outputId": "137a1ee1-c453-45bb-8ca6-d159ee7c8e4c"
      },
      "outputs": [
        {
          "output_type": "execute_result",
          "data": {
            "text/plain": [
              "<Derived Projected CRS: EPSG:27700>\n",
              "Name: OSGB36 / British National Grid\n",
              "Axis Info [cartesian]:\n",
              "- E[east]: Easting (metre)\n",
              "- N[north]: Northing (metre)\n",
              "Area of Use:\n",
              "- name: United Kingdom (UK) - offshore to boundary of UKCS within 49°45'N to 61°N and 9°W to 2°E; onshore Great Britain (England, Wales and Scotland). Isle of Man onshore.\n",
              "- bounds: (-9.0, 49.75, 2.01, 61.01)\n",
              "Coordinate Operation:\n",
              "- name: British National Grid\n",
              "- method: Transverse Mercator\n",
              "Datum: Ordnance Survey of Great Britain 1936\n",
              "- Ellipsoid: Airy 1830\n",
              "- Prime Meridian: Greenwich"
            ]
          },
          "metadata": {},
          "execution_count": 7
        }
      ],
      "source": [
        "deaths_df.crs"
      ]
    },
    {
      "cell_type": "markdown",
      "id": "1b631e49",
      "metadata": {
        "id": "1b631e49"
      },
      "source": [
        "The Coordinate Reference System (CRS) handles coordinates: How are coordinates on a sphere projected to the plane?"
      ]
    },
    {
      "cell_type": "markdown",
      "id": "8de88d9c",
      "metadata": {
        "id": "8de88d9c"
      },
      "source": [
        "Sphere coordinates are longitude and latitude. But our maps are flat, not spheres, so we must project. For doing GDS, you must be familiar with the following terms:  \n",
        "https://en.wikipedia.org/wiki/Longitude  \n",
        "https://en.wikipedia.org/wiki/Latitude  \n",
        "https://en.wikipedia.org/wiki/Prime_meridian  \n",
        "https://en.wikipedia.org/wiki/Map_projection  \n",
        "https://en.wikipedia.org/wiki/Earth_radius  \n",
        "https://en.wikipedia.org/wiki/Geoid  \n",
        "https://en.wikipedia.org/wiki/Spatial_reference_system  \n",
        "https://en.wikipedia.org/wiki/World_Geodetic_System  \n",
        "https://en.wikipedia.org/wiki/Grid_reference_system  \n",
        "https://en.wikipedia.org/wiki/Georeferencing\n",
        "\n"
      ]
    },
    {
      "cell_type": "markdown",
      "id": "107caecc",
      "metadata": {
        "id": "107caecc"
      },
      "source": [
        "Now let's look at the pumps. They are also points:"
      ]
    },
    {
      "cell_type": "code",
      "execution_count": null,
      "id": "71d2a04b",
      "metadata": {
        "colab": {
          "base_uri": "https://localhost:8080/",
          "height": 300
        },
        "id": "71d2a04b",
        "outputId": "fb5a5595-0fec-49c4-e339-d7ee80b66318"
      },
      "outputs": [
        {
          "output_type": "execute_result",
          "data": {
            "text/plain": [
              "   Id                       geometry\n",
              "0   0  POINT (529396.539 181025.063)\n",
              "1   0  POINT (529192.538 181079.391)\n",
              "2   0  POINT (529183.740 181193.735)\n",
              "3   0  POINT (529748.911 180924.207)\n",
              "4   0  POINT (529613.205 180896.804)\n",
              "5   0  POINT (529453.586 180826.353)\n",
              "6   0  POINT (529593.727 180660.455)\n",
              "7   0  POINT (529296.104 180794.849)"
            ],
            "text/html": [
              "\n",
              "  <div id=\"df-a0f4e578-beec-406b-8a58-599f54838661\">\n",
              "    <div class=\"colab-df-container\">\n",
              "      <div>\n",
              "<style scoped>\n",
              "    .dataframe tbody tr th:only-of-type {\n",
              "        vertical-align: middle;\n",
              "    }\n",
              "\n",
              "    .dataframe tbody tr th {\n",
              "        vertical-align: top;\n",
              "    }\n",
              "\n",
              "    .dataframe thead th {\n",
              "        text-align: right;\n",
              "    }\n",
              "</style>\n",
              "<table border=\"1\" class=\"dataframe\">\n",
              "  <thead>\n",
              "    <tr style=\"text-align: right;\">\n",
              "      <th></th>\n",
              "      <th>Id</th>\n",
              "      <th>geometry</th>\n",
              "    </tr>\n",
              "  </thead>\n",
              "  <tbody>\n",
              "    <tr>\n",
              "      <th>0</th>\n",
              "      <td>0</td>\n",
              "      <td>POINT (529396.539 181025.063)</td>\n",
              "    </tr>\n",
              "    <tr>\n",
              "      <th>1</th>\n",
              "      <td>0</td>\n",
              "      <td>POINT (529192.538 181079.391)</td>\n",
              "    </tr>\n",
              "    <tr>\n",
              "      <th>2</th>\n",
              "      <td>0</td>\n",
              "      <td>POINT (529183.740 181193.735)</td>\n",
              "    </tr>\n",
              "    <tr>\n",
              "      <th>3</th>\n",
              "      <td>0</td>\n",
              "      <td>POINT (529748.911 180924.207)</td>\n",
              "    </tr>\n",
              "    <tr>\n",
              "      <th>4</th>\n",
              "      <td>0</td>\n",
              "      <td>POINT (529613.205 180896.804)</td>\n",
              "    </tr>\n",
              "    <tr>\n",
              "      <th>5</th>\n",
              "      <td>0</td>\n",
              "      <td>POINT (529453.586 180826.353)</td>\n",
              "    </tr>\n",
              "    <tr>\n",
              "      <th>6</th>\n",
              "      <td>0</td>\n",
              "      <td>POINT (529593.727 180660.455)</td>\n",
              "    </tr>\n",
              "    <tr>\n",
              "      <th>7</th>\n",
              "      <td>0</td>\n",
              "      <td>POINT (529296.104 180794.849)</td>\n",
              "    </tr>\n",
              "  </tbody>\n",
              "</table>\n",
              "</div>\n",
              "      <button class=\"colab-df-convert\" onclick=\"convertToInteractive('df-a0f4e578-beec-406b-8a58-599f54838661')\"\n",
              "              title=\"Convert this dataframe to an interactive table.\"\n",
              "              style=\"display:none;\">\n",
              "        \n",
              "  <svg xmlns=\"http://www.w3.org/2000/svg\" height=\"24px\"viewBox=\"0 0 24 24\"\n",
              "       width=\"24px\">\n",
              "    <path d=\"M0 0h24v24H0V0z\" fill=\"none\"/>\n",
              "    <path d=\"M18.56 5.44l.94 2.06.94-2.06 2.06-.94-2.06-.94-.94-2.06-.94 2.06-2.06.94zm-11 1L8.5 8.5l.94-2.06 2.06-.94-2.06-.94L8.5 2.5l-.94 2.06-2.06.94zm10 10l.94 2.06.94-2.06 2.06-.94-2.06-.94-.94-2.06-.94 2.06-2.06.94z\"/><path d=\"M17.41 7.96l-1.37-1.37c-.4-.4-.92-.59-1.43-.59-.52 0-1.04.2-1.43.59L10.3 9.45l-7.72 7.72c-.78.78-.78 2.05 0 2.83L4 21.41c.39.39.9.59 1.41.59.51 0 1.02-.2 1.41-.59l7.78-7.78 2.81-2.81c.8-.78.8-2.07 0-2.86zM5.41 20L4 18.59l7.72-7.72 1.47 1.35L5.41 20z\"/>\n",
              "  </svg>\n",
              "      </button>\n",
              "      \n",
              "  <style>\n",
              "    .colab-df-container {\n",
              "      display:flex;\n",
              "      flex-wrap:wrap;\n",
              "      gap: 12px;\n",
              "    }\n",
              "\n",
              "    .colab-df-convert {\n",
              "      background-color: #E8F0FE;\n",
              "      border: none;\n",
              "      border-radius: 50%;\n",
              "      cursor: pointer;\n",
              "      display: none;\n",
              "      fill: #1967D2;\n",
              "      height: 32px;\n",
              "      padding: 0 0 0 0;\n",
              "      width: 32px;\n",
              "    }\n",
              "\n",
              "    .colab-df-convert:hover {\n",
              "      background-color: #E2EBFA;\n",
              "      box-shadow: 0px 1px 2px rgba(60, 64, 67, 0.3), 0px 1px 3px 1px rgba(60, 64, 67, 0.15);\n",
              "      fill: #174EA6;\n",
              "    }\n",
              "\n",
              "    [theme=dark] .colab-df-convert {\n",
              "      background-color: #3B4455;\n",
              "      fill: #D2E3FC;\n",
              "    }\n",
              "\n",
              "    [theme=dark] .colab-df-convert:hover {\n",
              "      background-color: #434B5C;\n",
              "      box-shadow: 0px 1px 3px 1px rgba(0, 0, 0, 0.15);\n",
              "      filter: drop-shadow(0px 1px 2px rgba(0, 0, 0, 0.3));\n",
              "      fill: #FFFFFF;\n",
              "    }\n",
              "  </style>\n",
              "\n",
              "      <script>\n",
              "        const buttonEl =\n",
              "          document.querySelector('#df-a0f4e578-beec-406b-8a58-599f54838661 button.colab-df-convert');\n",
              "        buttonEl.style.display =\n",
              "          google.colab.kernel.accessAllowed ? 'block' : 'none';\n",
              "\n",
              "        async function convertToInteractive(key) {\n",
              "          const element = document.querySelector('#df-a0f4e578-beec-406b-8a58-599f54838661');\n",
              "          const dataTable =\n",
              "            await google.colab.kernel.invokeFunction('convertToInteractive',\n",
              "                                                     [key], {});\n",
              "          if (!dataTable) return;\n",
              "\n",
              "          const docLinkHtml = 'Like what you see? Visit the ' +\n",
              "            '<a target=\"_blank\" href=https://colab.research.google.com/notebooks/data_table.ipynb>data table notebook</a>'\n",
              "            + ' to learn more about interactive tables.';\n",
              "          element.innerHTML = '';\n",
              "          dataTable['output_type'] = 'display_data';\n",
              "          await google.colab.output.renderOutput(dataTable, element);\n",
              "          const docLink = document.createElement('div');\n",
              "          docLink.innerHTML = docLinkHtml;\n",
              "          element.appendChild(docLink);\n",
              "        }\n",
              "      </script>\n",
              "    </div>\n",
              "  </div>\n",
              "  "
            ]
          },
          "metadata": {},
          "execution_count": 8
        }
      ],
      "source": [
        "pumps_df"
      ]
    },
    {
      "cell_type": "markdown",
      "id": "93406764",
      "metadata": {
        "id": "93406764"
      },
      "source": [
        "It **MUST** have the same CRS, otherwise the two data sources won't match!\n",
        "\n",
        "Each CRS has a standardized code, the EPSG code: https://epsg.io/  \n",
        "Compare those and you should be fine:"
      ]
    },
    {
      "cell_type": "code",
      "execution_count": null,
      "id": "b92bdb9d-6c4e-4320-a3f3-f5b27c54b903",
      "metadata": {
        "colab": {
          "base_uri": "https://localhost:8080/"
        },
        "id": "b92bdb9d-6c4e-4320-a3f3-f5b27c54b903",
        "outputId": "c51170c5-11b5-466a-b94c-72ea993fa022"
      },
      "outputs": [
        {
          "output_type": "execute_result",
          "data": {
            "text/plain": [
              "27700"
            ]
          },
          "metadata": {},
          "execution_count": 10
        }
      ],
      "source": [
        "pumps_df.crs.to_epsg()"
      ]
    },
    {
      "cell_type": "code",
      "execution_count": null,
      "id": "f9a5fce7",
      "metadata": {
        "colab": {
          "base_uri": "https://localhost:8080/"
        },
        "id": "f9a5fce7",
        "outputId": "a66da0f6-6064-4ee9-d898-88a57f5afce5"
      },
      "outputs": [
        {
          "output_type": "execute_result",
          "data": {
            "text/plain": [
              "True"
            ]
          },
          "metadata": {},
          "execution_count": 9
        }
      ],
      "source": [
        "pumps_df.crs.to_epsg() == deaths_df.crs.to_epsg()"
      ]
    },
    {
      "cell_type": "markdown",
      "id": "f13234ac",
      "metadata": {
        "id": "f13234ac"
      },
      "source": [
        "## Plotting the data"
      ]
    },
    {
      "cell_type": "markdown",
      "id": "3948e072",
      "metadata": {
        "id": "3948e072"
      },
      "source": [
        "Ploting deaths:"
      ]
    },
    {
      "cell_type": "code",
      "execution_count": null,
      "id": "fb60fcbb",
      "metadata": {
        "colab": {
          "base_uri": "https://localhost:8080/",
          "height": 265
        },
        "id": "fb60fcbb",
        "outputId": "58f98c5e-01a5-49a8-b8bb-76ea4fd15745"
      },
      "outputs": [
        {
          "output_type": "display_data",
          "data": {
            "text/plain": [
              "<Figure size 432x288 with 2 Axes>"
            ],
            "image/png": "[encoded data removed]"
          },
          "metadata": {
            "needs_background": "light"
          }
        }
      ],
      "source": [
        "ax = deaths_df.plot(column='Count', alpha=0.5, edgecolor='k', legend=True)"
      ]
    },
    {
      "cell_type": "markdown",
      "id": "4344e642",
      "metadata": {
        "id": "4344e642"
      },
      "source": [
        "Let's make it larger and add the pumps:"
      ]
    },
    {
      "cell_type": "code",
      "execution_count": null,
      "id": "23d778ca",
      "metadata": {
        "tags": [],
        "colab": {
          "base_uri": "https://localhost:8080/",
          "height": 864
        },
        "id": "23d778ca",
        "outputId": "c012279b-1d2f-46f2-aeb0-e64ad4b43e26"
      },
      "outputs": [
        {
          "output_type": "execute_result",
          "data": {
            "text/plain": [
              "<matplotlib.axes._subplots.AxesSubplot at 0x7f0f48efba90>"
            ]
          },
          "metadata": {},
          "execution_count": 12
        },
        {
          "output_type": "display_data",
          "data": {
            "text/plain": [
              "<Figure size 1080x1080 with 2 Axes>"
            ],
            "image/png": "[encoded data removed]"
          },
          "metadata": {
            "needs_background": "light"
          }
        }
      ],
      "source": [
        "ax = deaths_df.plot(column='Count', figsize=(15, 15), alpha=0.5, edgecolor='k', legend=True)\n",
        "pumps_df.plot(ax=ax, marker='x', color='red', markersize=50)"
      ]
    },
    {
      "cell_type": "code",
      "execution_count": null,
      "id": "1fc35347-211c-4e35-8eed-6598ceeb62fb",
      "metadata": {
        "id": "1fc35347-211c-4e35-8eed-6598ceeb62fb"
      },
      "outputs": [],
      "source": [
        "# Careful, since it is heavy to be loaded with LPI wifi \n",
        "\n",
        "ax = deaths_df.plot(column='Count', figsize=(15, 15), alpha=0.5, edgecolor='k', legend=True)\n",
        "pumps_df.plot(ax=ax, marker='x', color='red', markersize=50);\n",
        "\n",
        "ctx.add_basemap(ax,\n",
        "    crs=deaths_df.crs.to_string(),\n",
        "    # Using the original map, hand-drawn by Snow\n",
        "    source=\"SnowMap.tif\"\n",
        ")"
      ]
    },
    {
      "cell_type": "markdown",
      "id": "d9be19a9",
      "metadata": {
        "id": "d9be19a9"
      },
      "source": [
        "In the rest of the course we will learn not just how to visualize geospatial data, but also to analyze it statistically. An important tool for that is shapely, which allows handling and manipulation of geometric shapes."
      ]
    },
    {
      "cell_type": "markdown",
      "id": "879c07c3",
      "metadata": {
        "id": "879c07c3"
      },
      "source": [
        "# Shapely and geometric objects\n",
        "\n",
        "In this lesson, you will learn how to create and manipulate geometries in Python using the [Shapely Python Package](https://shapely.readthedocs.io/en/stable/manual.html).\n",
        "\n",
        "**Sources:**\n",
        "\n",
        "These materials are partly based on [Shapely-documentation](https://shapely.readthedocs.io/en/stable/manual.html) and [Westra\n",
        "E. (2013), Chapter 3](https://www.packtpub.com/application-development/python-geospatial-development-second-edition).\n",
        "\n",
        "## Fundamental geometric objects\n",
        "\n",
        "![Spatial geometric objects](files/geo-points-verts-polys.width-1200.jpg)\n",
        "\n",
        "## Shapely spatial data model\n",
        "\n",
        "![Spatial data model](files/SpatialDataModel.png)\n",
        "\n",
        "*Fundamental geometric objects that can be used in Python with* [Shapely](https://shapely.readthedocs.io/en/stable/manual.html).\n",
        "\n",
        "The most fundamental geometric objects are `Points`, `Lines` and `Polygons` which are the basic ingredients when working with spatial data in vector format. \n",
        "Python has a specific module called [Shapely](https://shapely.readthedocs.io/en/stable/manual.html) for doing various geometric operations. Basic knowledge of using Shapely is fundamental for understanding how geometries are stored and handled in GeoPandas.\n",
        "\n",
        "**Geometric objects consist of coordinate tuples where:**\n",
        "\n",
        "-  `Point` -object represents a single point in space. Points can be either two-dimensional (x, y) or three dimensional (x, y, z).\n",
        "-  `LineString` -object (i.e. a line) represents a sequence of points joined together to form a line. Hence, a line consist of a list of at least two coordinate tuples\n",
        "-  `Polygon` -object represents a filled area that consists of a list of at least three coordinate tuples that forms the outerior ring and a (possible) list of hole polygons.\n",
        "\n",
        "**It is also possible to have a collection of geometric objects (e.g. Polygons with multiple parts):**\n",
        "\n",
        "-  `MultiPoint` -object represents a collection of points and consists of a list of coordinate-tuples\n",
        "-  `MultiLineString` -object represents a collection of lines and consists of a list of line-like sequences\n",
        "-  `MultiPolygon` -object represents a collection of polygons that consists of a list of polygon-like sequences that construct from exterior ring and (possible) hole list tuples\n",
        "\n",
        "**Useful attributes and methods in Shapely include:**\n",
        "\n",
        "-  Creating lines and polygons based on a collection of point objects.\n",
        "-  Calculating areas/length/bounds etc. of input geometries\n",
        "-  Conducting geometric operations based on the input geometries such as `union`, `difference`, `distance` etc.\n",
        "-  Conducting spatial queries between geometries such as `intersects`, `touches`, `crosses`, `within` etc.\n"
      ]
    },
    {
      "cell_type": "markdown",
      "id": "b37f2064",
      "metadata": {
        "id": "b37f2064"
      },
      "source": [
        "## Point\n",
        "\n",
        "Creating point is easy, you pass x and y coordinates into `Point()` -object (+ possibly also z -coordinate):"
      ]
    },
    {
      "cell_type": "code",
      "source": [
        "!pip install shapely"
      ],
      "metadata": {
        "colab": {
          "base_uri": "https://localhost:8080/"
        },
        "id": "kXt3nQZ2uZHI",
        "outputId": "fa4bf38e-8f9b-4ae4-ac53-79c6174cea18"
      },
      "id": "kXt3nQZ2uZHI",
      "execution_count": 4,
      "outputs": [
        {
          "output_type": "stream",
          "name": "stdout",
          "text": [
            "Looking in indexes: https://pypi.org/simple, https://us-python.pkg.dev/colab-wheels/public/simple/\n",
            "Requirement already satisfied: shapely in /usr/local/lib/python3.8/dist-packages (2.0.0)\n",
            "Requirement already satisfied: numpy>=1.14 in /usr/local/lib/python3.8/dist-packages (from shapely) (1.21.6)\n"
          ]
        }
      ]
    },
    {
      "cell_type": "code",
      "execution_count": 5,
      "id": "bd193072",
      "metadata": {
        "jupyter": {
          "outputs_hidden": false
        },
        "id": "bd193072"
      },
      "outputs": [],
      "source": [
        "# Import necessary geometric objects from shapely module\n",
        "from shapely.geometry import Point, LineString, Polygon\n",
        "\n",
        "# Create Point geometric object(s) with coordinates\n",
        "point1 = Point(2.2, 4.2)\n",
        "point2 = Point(7.2, -25.1)\n",
        "point3 = Point(9.26, -2.456)\n",
        "point3D = Point(9.26, -2.456, 0.57)"
      ]
    },
    {
      "cell_type": "markdown",
      "id": "5a1e69e8",
      "metadata": {
        "id": "5a1e69e8"
      },
      "source": [
        "Let's see what these variables now contain: "
      ]
    },
    {
      "cell_type": "code",
      "execution_count": 8,
      "id": "e208df51",
      "metadata": {
        "id": "e208df51",
        "colab": {
          "base_uri": "https://localhost:8080/",
          "height": 121
        },
        "outputId": "afe4ad92-86c4-4a9f-fef6-9037eda2c3ec"
      },
      "outputs": [
        {
          "output_type": "execute_result",
          "data": {
            "text/plain": [
              "<POINT Z (9.26 -2.456 0.57)>"
            ],
            "image/svg+xml": "<svg xmlns=\"http://www.w3.org/2000/svg\" xmlns:xlink=\"http://www.w3.org/1999/xlink\" width=\"100.0\" height=\"100.0\" viewBox=\"8.26 -3.456 2.0 2.0\" preserveAspectRatio=\"xMinYMin meet\"><g transform=\"matrix(1,0,0,-1,0,-4.912)\"><circle cx=\"9.26\" cy=\"-2.456\" r=\"0.06\" stroke=\"#555555\" stroke-width=\"0.02\" fill=\"#66cc99\" opacity=\"0.6\" /></g></svg>"
          },
          "metadata": {},
          "execution_count": 8
        }
      ],
      "source": [
        "point3D"
      ]
    },
    {
      "cell_type": "markdown",
      "id": "bb18ec91",
      "metadata": {
        "id": "bb18ec91"
      },
      "source": [
        "As we see here, Jupyter notebook is able to display the shape directly on the screen.\n",
        "\n",
        "We can use the print statement to get information about the actual definition of these objects:"
      ]
    },
    {
      "cell_type": "code",
      "execution_count": 7,
      "id": "4dd30a36",
      "metadata": {
        "jupyter": {
          "outputs_hidden": false
        },
        "id": "4dd30a36",
        "colab": {
          "base_uri": "https://localhost:8080/"
        },
        "outputId": "c3575c43-ec84-44f4-d712-13020df9fb8f"
      },
      "outputs": [
        {
          "output_type": "stream",
          "name": "stdout",
          "text": [
            "POINT (2.2 4.2)\n",
            "POINT Z (9.26 -2.456 0.57)\n"
          ]
        }
      ],
      "source": [
        "print(point1)\n",
        "print(point3D)"
      ]
    },
    {
      "cell_type": "markdown",
      "id": "c016afae",
      "metadata": {
        "id": "c016afae"
      },
      "source": [
        "3D-point can be recognized from the capital Z -letter in front of the coordinates.\n",
        "\n",
        "Let's also check the data type of a point:"
      ]
    },
    {
      "cell_type": "code",
      "execution_count": null,
      "id": "4d51d7e4",
      "metadata": {
        "id": "4d51d7e4"
      },
      "outputs": [],
      "source": [
        "type(point1)"
      ]
    },
    {
      "cell_type": "markdown",
      "id": "b1450375",
      "metadata": {
        "id": "b1450375"
      },
      "source": [
        "We can see that the type of the point is shapely's Point. The point object is represented in a specific format based on\n",
        "[GEOS](https://trac.osgeo.org/geos) C++ library that is one of the standard libraries behind various Geographic Information Systems. It runs under the hood e.g. in [QGIS](http://www.qgis.org/en/site/). "
      ]
    },
    {
      "cell_type": "markdown",
      "id": "cfc6de5a",
      "metadata": {
        "id": "cfc6de5a"
      },
      "source": [
        "### Point attributes and functions\n",
        "\n",
        "Points and other shapely objects have useful built-in [attributes and methods](https://shapely.readthedocs.io/en/stable/manual.html#general-attributes-and-methods). Using the available attributes, we can for example extract the coordinate values of a Point and calculate the Euclidian distance between points."
      ]
    },
    {
      "cell_type": "code",
      "execution_count": null,
      "id": "f6f5737a-c31b-44b3-88cd-155b9a0f2872",
      "metadata": {
        "tags": [],
        "id": "f6f5737a-c31b-44b3-88cd-155b9a0f2872"
      },
      "outputs": [],
      "source": [
        "dir(point1)"
      ]
    },
    {
      "cell_type": "markdown",
      "id": "d9e3bf6d",
      "metadata": {
        "id": "d9e3bf6d"
      },
      "source": [
        "`geom_type` attribute contains information about  the geometry type of the Shapely object:"
      ]
    },
    {
      "cell_type": "code",
      "execution_count": null,
      "id": "b17baacf",
      "metadata": {
        "id": "b17baacf"
      },
      "outputs": [],
      "source": [
        "point1.geom_type"
      ]
    },
    {
      "cell_type": "markdown",
      "id": "55dbd2b0",
      "metadata": {
        "id": "55dbd2b0"
      },
      "source": [
        "Extracting the coordinates of a Point can be done in a couple of different ways:"
      ]
    },
    {
      "cell_type": "markdown",
      "id": "5ce094ce",
      "metadata": {
        "id": "5ce094ce"
      },
      "source": [
        "`coords` attribute contains the coordinate information as a `CoordinateSequence` which is another data type related to Shapely."
      ]
    },
    {
      "cell_type": "code",
      "execution_count": 9,
      "id": "a6069fd6",
      "metadata": {
        "id": "a6069fd6",
        "colab": {
          "base_uri": "https://localhost:8080/"
        },
        "outputId": "c9752e11-0c2b-4a0f-a986-68beba0df90f"
      },
      "outputs": [
        {
          "output_type": "execute_result",
          "data": {
            "text/plain": [
              "[(2.2, 4.2)]"
            ]
          },
          "metadata": {},
          "execution_count": 9
        }
      ],
      "source": [
        "# Get xy coordinate tuple\n",
        "list(point1.coords)"
      ]
    },
    {
      "cell_type": "markdown",
      "id": "742e4923",
      "metadata": {
        "id": "742e4923"
      },
      "source": [
        "Here we have a coordinate tuple inside a list. Using the attributes `x` and `y` it is possible to get the coordinates directly as plain decimal numbers."
      ]
    },
    {
      "cell_type": "code",
      "execution_count": null,
      "id": "f6e90fcc",
      "metadata": {
        "jupyter": {
          "outputs_hidden": false
        },
        "id": "f6e90fcc"
      },
      "outputs": [],
      "source": [
        "# Read x and y coordinates separately\n",
        "x = point1.x\n",
        "y = point1.y"
      ]
    },
    {
      "cell_type": "code",
      "execution_count": null,
      "id": "73ce8787",
      "metadata": {
        "id": "73ce8787"
      },
      "outputs": [],
      "source": [
        "print( x, y)"
      ]
    },
    {
      "cell_type": "markdown",
      "id": "803f4d04",
      "metadata": {
        "id": "803f4d04"
      },
      "source": [
        "It is also possible to calculate the distance between two objects using the [distance](https://shapely.readthedocs.io/en/stable/manual.html#object.distance) method. In our example the distance is calculated in a cartesian coordinate system. When working with real GIS data the distance is based on the used coordinate reference system. always check what is the unit of measurement (for example, meters) in the coordinate reference system you are using.\n",
        "\n",
        "Let's calculate the distance between `point1` and `point2`:"
      ]
    },
    {
      "cell_type": "code",
      "execution_count": null,
      "id": "46a61915",
      "metadata": {
        "id": "46a61915"
      },
      "outputs": [],
      "source": [
        "# Check input data\n",
        "print(point1)\n",
        "print(point2)"
      ]
    },
    {
      "cell_type": "code",
      "execution_count": 10,
      "id": "7e864967",
      "metadata": {
        "id": "7e864967",
        "colab": {
          "base_uri": "https://localhost:8080/"
        },
        "outputId": "7b16af26-bb54-46f3-c2b1-aa3247d36d9a"
      },
      "outputs": [
        {
          "output_type": "stream",
          "name": "stdout",
          "text": [
            "Distance between the points is 29.723559679150142 units\n"
          ]
        }
      ],
      "source": [
        "# Calculate the distance between point1 and point2\n",
        "dist = point1.distance(point2)\n",
        "\n",
        "# Print out a nicely formatted info message\n",
        "print(f\"Distance between the points is {dist} units\")"
      ]
    },
    {
      "cell_type": "markdown",
      "id": "288a5111",
      "metadata": {
        "id": "288a5111"
      },
      "source": [
        "## LineString\n",
        "\n",
        "\n",
        "Creating LineString -objects is fairly similar to creating Shapely Points. \n",
        "\n",
        "Now instead using a single coordinate-tuple we can construct the line using either a list of shapely Point -objects or pass the points as coordinate-tuples:"
      ]
    },
    {
      "cell_type": "code",
      "execution_count": 11,
      "id": "867c83fb",
      "metadata": {
        "jupyter": {
          "outputs_hidden": false
        },
        "id": "867c83fb"
      },
      "outputs": [],
      "source": [
        "# Create a LineString from our Point objects\n",
        "line = LineString([point1, point2, point3])"
      ]
    },
    {
      "cell_type": "code",
      "execution_count": null,
      "id": "881b7382",
      "metadata": {
        "id": "881b7382"
      },
      "outputs": [],
      "source": [
        "# It is also possible to produce the same outcome using coordinate tuples\n",
        "line2 = LineString([(2.2, 4.2), (7.2, -25.1), (9.26, -2.456)])"
      ]
    },
    {
      "cell_type": "code",
      "execution_count": null,
      "id": "c4b02711",
      "metadata": {
        "id": "c4b02711"
      },
      "outputs": [],
      "source": [
        "# Check if lines are identical\n",
        "line == line2 "
      ]
    },
    {
      "cell_type": "markdown",
      "id": "d6cc6db7",
      "metadata": {
        "id": "d6cc6db7"
      },
      "source": [
        "Let's see how our line looks like: "
      ]
    },
    {
      "cell_type": "code",
      "execution_count": 12,
      "id": "293a53c6",
      "metadata": {
        "id": "293a53c6",
        "colab": {
          "base_uri": "https://localhost:8080/",
          "height": 121
        },
        "outputId": "38491888-8dd3-4430-a5a5-ae5844dfbcd0"
      },
      "outputs": [
        {
          "output_type": "execute_result",
          "data": {
            "text/plain": [
              "<LINESTRING (2.2 4.2, 7.2 -25.1, 9.26 -2.456)>"
            ],
            "image/svg+xml": "<svg xmlns=\"http://www.w3.org/2000/svg\" xmlns:xlink=\"http://www.w3.org/1999/xlink\" width=\"100.0\" height=\"100.0\" viewBox=\"1.028 -26.272000000000002 9.404 31.644000000000002\" preserveAspectRatio=\"xMinYMin meet\"><g transform=\"matrix(1,0,0,-1,0,-20.900000000000002)\"><polyline fill=\"none\" stroke=\"#66cc99\" stroke-width=\"0.63288\" points=\"2.2,4.2 7.2,-25.1 9.26,-2.456\" opacity=\"0.8\" /></g></svg>"
          },
          "metadata": {},
          "execution_count": 12
        }
      ],
      "source": [
        "line"
      ]
    },
    {
      "cell_type": "code",
      "execution_count": null,
      "id": "dd6ec069",
      "metadata": {
        "id": "dd6ec069"
      },
      "outputs": [],
      "source": [
        "print(line)"
      ]
    },
    {
      "cell_type": "markdown",
      "id": "979c88f7",
      "metadata": {
        "id": "979c88f7"
      },
      "source": [
        "As we can see from above, the `line` -variable constitutes of multiple coordinate-pairs."
      ]
    },
    {
      "cell_type": "markdown",
      "id": "767950f8",
      "metadata": {
        "id": "767950f8"
      },
      "source": [
        "Check also the data type:"
      ]
    },
    {
      "cell_type": "code",
      "execution_count": null,
      "id": "de874185",
      "metadata": {
        "id": "de874185"
      },
      "outputs": [],
      "source": [
        "# Check data type of the line object\n",
        "type(line)"
      ]
    },
    {
      "cell_type": "code",
      "execution_count": null,
      "id": "ab02f722",
      "metadata": {
        "id": "ab02f722"
      },
      "outputs": [],
      "source": [
        "# Check geometry type of the line object\n",
        "line.geom_type"
      ]
    },
    {
      "cell_type": "markdown",
      "id": "ff55a526",
      "metadata": {
        "id": "ff55a526"
      },
      "source": [
        "### LineString attributes and functions\n",
        "\n",
        "\n",
        "`LineString` -object has many useful built-in attributes and functionalities. It is for instance possible to extract the coordinates or the length of a LineString (line), calculate the centroid of the line, create points along the line at specific distance, calculate the closest distance from a line to specified Point and simplify the geometry. See full list of functionalities from [Shapely documentation](http://toblerity.org/shapely/manual.html). Here, we go through a few of them.\n",
        "\n",
        "We can extract the coordinates of a LineString similarly as with `Point`"
      ]
    },
    {
      "cell_type": "code",
      "execution_count": null,
      "id": "37caaf61",
      "metadata": {
        "jupyter": {
          "outputs_hidden": false
        },
        "id": "37caaf61"
      },
      "outputs": [],
      "source": [
        "# Get xy coordinate tuples\n",
        "list(line.coords)"
      ]
    },
    {
      "cell_type": "markdown",
      "id": "5691f9c0",
      "metadata": {
        "id": "5691f9c0"
      },
      "source": [
        "Again, we have a list of coordinate tuples (x,y) inside a list.\n",
        "\n",
        "If you would need to access all x-coordinates or all y-coordinates of the line, you can do it directly using the `xy` attribute: "
      ]
    },
    {
      "cell_type": "code",
      "execution_count": null,
      "id": "f040eb38",
      "metadata": {
        "jupyter": {
          "outputs_hidden": false
        },
        "id": "f040eb38"
      },
      "outputs": [],
      "source": [
        "# Extract x and y coordinates separately\n",
        "xcoords = list(line.xy[0])\n",
        "ycoords = list(line.xy[1])"
      ]
    },
    {
      "cell_type": "code",
      "execution_count": null,
      "id": "7ba9879f",
      "metadata": {
        "id": "7ba9879f"
      },
      "outputs": [],
      "source": [
        "print(xcoords)\n",
        "print(ycoords)"
      ]
    },
    {
      "cell_type": "markdown",
      "id": "fb73ece1",
      "metadata": {
        "id": "fb73ece1"
      },
      "source": [
        "It is possible to retrieve specific attributes such as lenght of the line and center of the line (centroid) straight from the LineString object itself:"
      ]
    },
    {
      "cell_type": "code",
      "execution_count": null,
      "id": "12e300d5",
      "metadata": {
        "jupyter": {
          "outputs_hidden": false
        },
        "id": "12e300d5"
      },
      "outputs": [],
      "source": [
        "# Get the lenght of the line\n",
        "l_length = line.length\n",
        "print(f\"Length of our line: {l_length} units\")"
      ]
    },
    {
      "cell_type": "code",
      "execution_count": null,
      "id": "55fe4637",
      "metadata": {
        "id": "55fe4637"
      },
      "outputs": [],
      "source": [
        "# Get the centroid of the line\n",
        "print(line.centroid)"
      ]
    },
    {
      "cell_type": "markdown",
      "id": "78bd9d1a",
      "metadata": {
        "id": "78bd9d1a"
      },
      "source": [
        "As you can see, the centroid of the line is again a Shapely Point object. "
      ]
    },
    {
      "cell_type": "markdown",
      "id": "b45eaf3d",
      "metadata": {
        "id": "b45eaf3d"
      },
      "source": [
        "## Polygon\n",
        "\n",
        "\n",
        "Creating a `Polygon` -object continues the same logic of how `Point` and `LineString` were created but Polygon object only accepts a sequence of coordinates as input. \n",
        "\n",
        "Polygon needs **at least three coordinate-tuples** (three points are reguired to form a surface):"
      ]
    },
    {
      "cell_type": "code",
      "execution_count": 13,
      "id": "c78e3674",
      "metadata": {
        "jupyter": {
          "outputs_hidden": false
        },
        "id": "c78e3674"
      },
      "outputs": [],
      "source": [
        "# Create a Polygon from the coordinates\n",
        "poly = Polygon([(2.2, 4.2), (7.2, -25.1), (9.26, -2.456)])"
      ]
    },
    {
      "cell_type": "markdown",
      "id": "cbb1c833",
      "metadata": {
        "id": "cbb1c833"
      },
      "source": [
        "We can also use information from the Shapely Point objects created earlier, but we can't use the point objects directly. Instead, we need to get information of the x,y coordinate pairs as a sequence. We can achieve this by using a list comprehension."
      ]
    },
    {
      "cell_type": "code",
      "execution_count": 14,
      "id": "2fbfbd79",
      "metadata": {
        "id": "2fbfbd79"
      },
      "outputs": [],
      "source": [
        "# Create a Polygon based on information from the Shapely points\n",
        "poly2 = Polygon([[p.x, p.y] for p in [point1, point2, point3]])"
      ]
    },
    {
      "cell_type": "markdown",
      "id": "fcb66c78",
      "metadata": {
        "id": "fcb66c78"
      },
      "source": [
        "In order to understand what just happened, let's check what the list comprehension produces:"
      ]
    },
    {
      "cell_type": "code",
      "execution_count": null,
      "id": "489923fc",
      "metadata": {
        "id": "489923fc"
      },
      "outputs": [],
      "source": [
        "[[p.x, p.y] for p in [point1, point2, point3]]"
      ]
    },
    {
      "cell_type": "markdown",
      "id": "05c24aff",
      "metadata": {
        "id": "05c24aff"
      },
      "source": [
        "This list of lists was passed as input for creating the Polygon."
      ]
    },
    {
      "cell_type": "code",
      "execution_count": null,
      "id": "3e63a93c-dad8-434e-a604-4fdb54f65174",
      "metadata": {
        "id": "3e63a93c-dad8-434e-a604-4fdb54f65174"
      },
      "outputs": [],
      "source": [
        "# Easier: Just add a list of point objects\n",
        "poly3 = Polygon([point1, point2, point3])"
      ]
    },
    {
      "cell_type": "code",
      "execution_count": null,
      "id": "b11791ab",
      "metadata": {
        "id": "b11791ab"
      },
      "outputs": [],
      "source": [
        "# Check that polygon objects created using the different approaches are identical\n",
        "print(poly == poly2)\n",
        "print(poly == poly3)"
      ]
    },
    {
      "cell_type": "markdown",
      "id": "b6d7830e",
      "metadata": {
        "id": "b6d7830e"
      },
      "source": [
        "Let's see how our Polygon looks like"
      ]
    },
    {
      "cell_type": "code",
      "execution_count": null,
      "id": "a74443d1",
      "metadata": {
        "id": "a74443d1"
      },
      "outputs": [],
      "source": [
        "poly"
      ]
    },
    {
      "cell_type": "code",
      "execution_count": null,
      "id": "c1bee6d7",
      "metadata": {
        "id": "c1bee6d7"
      },
      "outputs": [],
      "source": [
        "print(poly)"
      ]
    },
    {
      "cell_type": "markdown",
      "id": "5822013f",
      "metadata": {
        "id": "5822013f"
      },
      "source": [
        "Notice that `Polygon` representation has double parentheses around the coordinates (i.e. `POLYGON ((<values in here>))` ). This is because Polygon can also have holes inside of it. "
      ]
    },
    {
      "cell_type": "markdown",
      "id": "e90954ba",
      "metadata": {
        "id": "e90954ba"
      },
      "source": [
        "Check also the data type:"
      ]
    },
    {
      "cell_type": "code",
      "execution_count": null,
      "id": "17a18b1a",
      "metadata": {
        "id": "17a18b1a"
      },
      "outputs": [],
      "source": [
        "# Data type\n",
        "type(poly)"
      ]
    },
    {
      "cell_type": "code",
      "execution_count": 15,
      "id": "487bbd13",
      "metadata": {
        "id": "487bbd13",
        "colab": {
          "base_uri": "https://localhost:8080/",
          "height": 35
        },
        "outputId": "814ba6d0-d0e7-44fa-b21e-a3fe909dddea"
      },
      "outputs": [
        {
          "output_type": "execute_result",
          "data": {
            "text/plain": [
              "'Polygon'"
            ],
            "application/vnd.google.colaboratory.intrinsic+json": {
              "type": "string"
            }
          },
          "metadata": {},
          "execution_count": 15
        }
      ],
      "source": [
        "# Geometry type\n",
        "poly.geom_type"
      ]
    },
    {
      "cell_type": "code",
      "execution_count": 16,
      "id": "2c17067a",
      "metadata": {
        "tags": [],
        "id": "2c17067a",
        "colab": {
          "base_uri": "https://localhost:8080/"
        },
        "outputId": "21516a83-60f3-42b6-d3de-bc201823f270"
      },
      "outputs": [
        {
          "output_type": "stream",
          "name": "stdout",
          "text": [
            "Help on class Polygon in module shapely.geometry.polygon:\n",
            "\n",
            "class Polygon(shapely.geometry.base.BaseGeometry)\n",
            " |  Polygon(shell=None, holes=None)\n",
            " |  \n",
            " |  A geometry type representing an area that is enclosed by a linear ring.\n",
            " |  \n",
            " |  A polygon is a two-dimensional feature and has a non-zero area. It may\n",
            " |  have one or more negative-space \"holes\" which are also bounded by linear\n",
            " |  rings. If any rings cross each other, the feature is invalid and\n",
            " |  operations on it may fail.\n",
            " |  \n",
            " |  Parameters\n",
            " |  ----------\n",
            " |  shell : sequence\n",
            " |      A sequence of (x, y [,z]) numeric coordinate pairs or triples, or\n",
            " |      an array-like with shape (N, 2) or (N, 3).\n",
            " |      Also can be a sequence of Point objects.\n",
            " |  holes : sequence\n",
            " |      A sequence of objects which satisfy the same requirements as the\n",
            " |      shell parameters above\n",
            " |  \n",
            " |  Attributes\n",
            " |  ----------\n",
            " |  exterior : LinearRing\n",
            " |      The ring which bounds the positive space of the polygon.\n",
            " |  interiors : sequence\n",
            " |      A sequence of rings which bound all existing holes.\n",
            " |  \n",
            " |  Examples\n",
            " |  --------\n",
            " |  Create a square polygon with no holes\n",
            " |  \n",
            " |  >>> coords = ((0., 0.), (0., 1.), (1., 1.), (1., 0.), (0., 0.))\n",
            " |  >>> polygon = Polygon(coords)\n",
            " |  >>> polygon.area\n",
            " |  1.0\n",
            " |  \n",
            " |  Method resolution order:\n",
            " |      Polygon\n",
            " |      shapely.geometry.base.BaseGeometry\n",
            " |      shapely.lib.Geometry\n",
            " |      builtins.object\n",
            " |  \n",
            " |  Methods defined here:\n",
            " |  \n",
            " |  svg(self, scale_factor=1.0, fill_color=None, opacity=None)\n",
            " |      Returns SVG path element for the Polygon geometry.\n",
            " |      \n",
            " |      Parameters\n",
            " |      ==========\n",
            " |      scale_factor : float\n",
            " |          Multiplication factor for the SVG stroke-width.  Default is 1.\n",
            " |      fill_color : str, optional\n",
            " |          Hex string for fill color. Default is to use \"#66cc99\" if\n",
            " |          geometry is valid, and \"#ff3333\" if invalid.\n",
            " |      opacity : float\n",
            " |          Float number between 0 and 1 for color opacity. Default value is 0.6\n",
            " |  \n",
            " |  ----------------------------------------------------------------------\n",
            " |  Class methods defined here:\n",
            " |  \n",
            " |  from_bounds(xmin, ymin, xmax, ymax) from builtins.type\n",
            " |      Construct a `Polygon()` from spatial bounds.\n",
            " |  \n",
            " |  ----------------------------------------------------------------------\n",
            " |  Static methods defined here:\n",
            " |  \n",
            " |  __new__(self, shell=None, holes=None)\n",
            " |      Create and return a new object.  See help(type) for accurate signature.\n",
            " |  \n",
            " |  ----------------------------------------------------------------------\n",
            " |  Readonly properties defined here:\n",
            " |  \n",
            " |  __geo_interface__\n",
            " |      Dictionary representation of the geometry\n",
            " |  \n",
            " |  coords\n",
            " |      Access to geometry's coordinates (CoordinateSequence)\n",
            " |  \n",
            " |  exterior\n",
            " |  \n",
            " |  interiors\n",
            " |  \n",
            " |  ----------------------------------------------------------------------\n",
            " |  Methods inherited from shapely.geometry.base.BaseGeometry:\n",
            " |  \n",
            " |  __and__(self, other)\n",
            " |  \n",
            " |  __bool__(self)\n",
            " |  \n",
            " |  __format__(self, format_spec)\n",
            " |      Format a geometry using a format specification.\n",
            " |  \n",
            " |  __nonzero__(self)\n",
            " |  \n",
            " |  __or__(self, other)\n",
            " |  \n",
            " |  __reduce__(self)\n",
            " |      Helper for pickle.\n",
            " |  \n",
            " |  __repr__(self)\n",
            " |      Return repr(self).\n",
            " |  \n",
            " |  __str__(self)\n",
            " |      Return str(self).\n",
            " |  \n",
            " |  __sub__(self, other)\n",
            " |  \n",
            " |  __xor__(self, other)\n",
            " |  \n",
            " |  almost_equals(self, other, decimal=6)\n",
            " |      True if geometries are equal at all coordinates to a\n",
            " |      specified decimal place.\n",
            " |      \n",
            " |      .. deprecated:: 1.8.0\n",
            " |          The 'almost_equals()' method is deprecated\n",
            " |          and will be removed in Shapely 2.1 because the name is\n",
            " |          confusing. The 'equals_exact()' method should be used\n",
            " |          instead.\n",
            " |      \n",
            " |      Refers to approximate coordinate equality, which requires\n",
            " |      coordinates to be approximately equal and in the same order for\n",
            " |      all components of a geometry.\n",
            " |      \n",
            " |      Because of this it is possible for \"equals()\" to be True for two\n",
            " |      geometries and \"almost_equals()\" to be False.\n",
            " |      \n",
            " |      Examples\n",
            " |      --------\n",
            " |      >>> LineString(\n",
            " |      ...     [(0, 0), (2, 2)]\n",
            " |      ... ).equals_exact(\n",
            " |      ...     LineString([(0, 0), (1, 1), (2, 2)]),\n",
            " |      ...     1e-6\n",
            " |      ... )\n",
            " |      False\n",
            " |      \n",
            " |      Returns\n",
            " |      -------\n",
            " |      bool\n",
            " |  \n",
            " |  buffer(self, distance, quad_segs=16, cap_style='round', join_style='round', mitre_limit=5.0, single_sided=False, **kwargs)\n",
            " |      Get a geometry that represents all points within a distance\n",
            " |      of this geometry.\n",
            " |      \n",
            " |      A positive distance produces a dilation, a negative distance an\n",
            " |      erosion. A very small or zero distance may sometimes be used to\n",
            " |      \"tidy\" a polygon.\n",
            " |      \n",
            " |      Parameters\n",
            " |      ----------\n",
            " |      distance : float\n",
            " |          The distance to buffer around the object.\n",
            " |      resolution : int, optional\n",
            " |          The resolution of the buffer around each vertex of the\n",
            " |          object.\n",
            " |      quad_segs : int, optional\n",
            " |          Sets the number of line segments used to approximate an\n",
            " |          angle fillet.\n",
            " |      cap_style : shapely.BufferCapStyle or {'round', 'square', 'flat'}, default 'round'\n",
            " |          Specifies the shape of buffered line endings. BufferCapStyle.round ('round')\n",
            " |          results in circular line endings (see ``quad_segs``). Both BufferCapStyle.square\n",
            " |          ('square') and BufferCapStyle.flat ('flat') result in rectangular line endings,\n",
            " |          only BufferCapStyle.flat ('flat') will end at the original vertex,\n",
            " |          while BufferCapStyle.square ('square') involves adding the buffer width.\n",
            " |      join_style : shapely.BufferJoinStyle or {'round', 'mitre', 'bevel'}, default 'round'\n",
            " |          Specifies the shape of buffered line midpoints. BufferJoinStyle.ROUND ('round')\n",
            " |          results in rounded shapes. BufferJoinStyle.bevel ('bevel') results in a beveled\n",
            " |          edge that touches the original vertex. BufferJoinStyle.mitre ('mitre') results\n",
            " |          in a single vertex that is beveled depending on the ``mitre_limit`` parameter.\n",
            " |      mitre_limit : float, optional\n",
            " |          The mitre limit ratio is used for very sharp corners. The\n",
            " |          mitre ratio is the ratio of the distance from the corner to\n",
            " |          the end of the mitred offset corner. When two line segments\n",
            " |          meet at a sharp angle, a miter join will extend the original\n",
            " |          geometry. To prevent unreasonable geometry, the mitre limit\n",
            " |          allows controlling the maximum length of the join corner.\n",
            " |          Corners with a ratio which exceed the limit will be beveled.\n",
            " |      single_side : bool, optional\n",
            " |          The side used is determined by the sign of the buffer\n",
            " |          distance:\n",
            " |      \n",
            " |              a positive distance indicates the left-hand side\n",
            " |              a negative distance indicates the right-hand side\n",
            " |      \n",
            " |          The single-sided buffer of point geometries is the same as\n",
            " |          the regular buffer.  The End Cap Style for single-sided\n",
            " |          buffers is always ignored, and forced to the equivalent of\n",
            " |          CAP_FLAT.\n",
            " |      quadsegs : int, optional\n",
            " |          Deprecated alias for `quad_segs`.\n",
            " |      \n",
            " |      Returns\n",
            " |      -------\n",
            " |      Geometry\n",
            " |      \n",
            " |      Notes\n",
            " |      -----\n",
            " |      The return value is a strictly two-dimensional geometry. All\n",
            " |      Z coordinates of the original geometry will be ignored.\n",
            " |      \n",
            " |      Examples\n",
            " |      --------\n",
            " |      >>> from shapely.wkt import loads\n",
            " |      >>> g = loads('POINT (0.0 0.0)')\n",
            " |      \n",
            " |      16-gon approx of a unit radius circle:\n",
            " |      \n",
            " |      >>> g.buffer(1.0).area  # doctest: +ELLIPSIS\n",
            " |      3.1365484905459...\n",
            " |      \n",
            " |      128-gon approximation:\n",
            " |      \n",
            " |      >>> g.buffer(1.0, 128).area  # doctest: +ELLIPSIS\n",
            " |      3.141513801144...\n",
            " |      \n",
            " |      triangle approximation:\n",
            " |      \n",
            " |      >>> g.buffer(1.0, 3).area\n",
            " |      3.0\n",
            " |      >>> list(g.buffer(1.0, cap_style=BufferCapStyle.square).exterior.coords)\n",
            " |      [(1.0, 1.0), (1.0, -1.0), (-1.0, -1.0), (-1.0, 1.0), (1.0, 1.0)]\n",
            " |      >>> g.buffer(1.0, cap_style=BufferCapStyle.square).area\n",
            " |      4.0\n",
            " |  \n",
            " |  contains(self, other)\n",
            " |      Returns True if the geometry contains the other, else False\n",
            " |  \n",
            " |  contains_properly(self, other)\n",
            " |      Returns True if the geometry completely contains the other, with no\n",
            " |      common boundary points, else False\n",
            " |      \n",
            " |      Refer to `shapely.contains_properly` for full documentation.\n",
            " |  \n",
            " |  covered_by(self, other)\n",
            " |      Returns True if the geometry is covered by the other, else False\n",
            " |  \n",
            " |  covers(self, other)\n",
            " |      Returns True if the geometry covers the other, else False\n",
            " |  \n",
            " |  crosses(self, other)\n",
            " |      Returns True if the geometries cross, else False\n",
            " |  \n",
            " |  difference(self, other, grid_size=None)\n",
            " |      Returns the difference of the geometries.\n",
            " |      \n",
            " |      Refer to `shapely.difference` for full documentation.\n",
            " |  \n",
            " |  disjoint(self, other)\n",
            " |      Returns True if geometries are disjoint, else False\n",
            " |  \n",
            " |  distance(self, other)\n",
            " |      Unitless distance to other geometry (float)\n",
            " |  \n",
            " |  dwithin(self, other, distance)\n",
            " |      Returns True if geometry is within a given distance from the other, else False.\n",
            " |      \n",
            " |      Refer to `shapely.dwithin` for full documentation.\n",
            " |  \n",
            " |  equals(self, other)\n",
            " |      Returns True if geometries are equal, else False.\n",
            " |      \n",
            " |      This method considers point-set equality (or topological\n",
            " |      equality), and is equivalent to (self.within(other) &\n",
            " |      self.contains(other)).\n",
            " |      \n",
            " |      Examples\n",
            " |      --------\n",
            " |      >>> LineString(\n",
            " |      ...     [(0, 0), (2, 2)]\n",
            " |      ... ).equals(\n",
            " |      ...     LineString([(0, 0), (1, 1), (2, 2)])\n",
            " |      ... )\n",
            " |      True\n",
            " |      \n",
            " |      Returns\n",
            " |      -------\n",
            " |      bool\n",
            " |  \n",
            " |  equals_exact(self, other, tolerance)\n",
            " |      True if geometries are equal to within a specified\n",
            " |      tolerance.\n",
            " |      \n",
            " |      Parameters\n",
            " |      ----------\n",
            " |      other : BaseGeometry\n",
            " |          The other geometry object in this comparison.\n",
            " |      tolerance : float\n",
            " |          Absolute tolerance in the same units as coordinates.\n",
            " |      \n",
            " |      This method considers coordinate equality, which requires\n",
            " |      coordinates to be equal and in the same order for all components\n",
            " |      of a geometry.\n",
            " |      \n",
            " |      Because of this it is possible for \"equals()\" to be True for two\n",
            " |      geometries and \"equals_exact()\" to be False.\n",
            " |      \n",
            " |      Examples\n",
            " |      --------\n",
            " |      >>> LineString(\n",
            " |      ...     [(0, 0), (2, 2)]\n",
            " |      ... ).equals_exact(\n",
            " |      ...     LineString([(0, 0), (1, 1), (2, 2)]),\n",
            " |      ...     1e-6\n",
            " |      ... )\n",
            " |      False\n",
            " |      \n",
            " |      Returns\n",
            " |      -------\n",
            " |      bool\n",
            " |  \n",
            " |  geometryType(self)\n",
            " |  \n",
            " |  hausdorff_distance(self, other)\n",
            " |      Unitless hausdorff distance to other geometry (float)\n",
            " |  \n",
            " |  interpolate(self, distance, normalized=False)\n",
            " |      Return a point at the specified distance along a linear geometry\n",
            " |      \n",
            " |      Negative length values are taken as measured in the reverse\n",
            " |      direction from the end of the geometry. Out-of-range index\n",
            " |      values are handled by clamping them to the valid range of values.\n",
            " |      If the normalized arg is True, the distance will be interpreted as a\n",
            " |      fraction of the geometry's length.\n",
            " |      \n",
            " |      Alias of `line_interpolate_point`.\n",
            " |  \n",
            " |  intersection(self, other, grid_size=None)\n",
            " |      Returns the intersection of the geometries.\n",
            " |      \n",
            " |      Refer to `shapely.intersection` for full documentation.\n",
            " |  \n",
            " |  intersects(self, other)\n",
            " |      Returns True if geometries intersect, else False\n",
            " |  \n",
            " |  line_interpolate_point(self, distance, normalized=False)\n",
            " |      Return a point at the specified distance along a linear geometry\n",
            " |      \n",
            " |      Negative length values are taken as measured in the reverse\n",
            " |      direction from the end of the geometry. Out-of-range index\n",
            " |      values are handled by clamping them to the valid range of values.\n",
            " |      If the normalized arg is True, the distance will be interpreted as a\n",
            " |      fraction of the geometry's length.\n",
            " |      \n",
            " |      Alias of `interpolate`.\n",
            " |  \n",
            " |  line_locate_point(self, other, normalized=False)\n",
            " |      Returns the distance along this geometry to a point nearest the\n",
            " |      specified point\n",
            " |      \n",
            " |      If the normalized arg is True, return the distance normalized to the\n",
            " |      length of the linear geometry.\n",
            " |      \n",
            " |      Alias of `project`.\n",
            " |  \n",
            " |  normalize(self)\n",
            " |      Converts geometry to normal form (or canonical form).\n",
            " |      \n",
            " |      This method orders the coordinates, rings of a polygon and parts of\n",
            " |      multi geometries consistently. Typically useful for testing purposes\n",
            " |      (for example in combination with `equals_exact`).\n",
            " |      \n",
            " |      Examples\n",
            " |      --------\n",
            " |      >>> from shapely import MultiLineString\n",
            " |      >>> line = MultiLineString([[(0, 0), (1, 1)], [(3, 3), (2, 2)]])\n",
            " |      >>> line.normalize()\n",
            " |      <MULTILINESTRING ((2 2, 3 3), (0 0, 1 1))>\n",
            " |  \n",
            " |  overlaps(self, other)\n",
            " |      Returns True if geometries overlap, else False\n",
            " |  \n",
            " |  point_on_surface(self)\n",
            " |      Returns a point guaranteed to be within the object, cheaply.\n",
            " |      \n",
            " |      Alias of `representative_point`.\n",
            " |  \n",
            " |  project(self, other, normalized=False)\n",
            " |      Returns the distance along this geometry to a point nearest the\n",
            " |      specified point\n",
            " |      \n",
            " |      If the normalized arg is True, return the distance normalized to the\n",
            " |      length of the linear geometry.\n",
            " |      \n",
            " |      Alias of `line_locate_point`.\n",
            " |  \n",
            " |  relate(self, other)\n",
            " |      Returns the DE-9IM intersection matrix for the two geometries\n",
            " |      (string)\n",
            " |  \n",
            " |  relate_pattern(self, other, pattern)\n",
            " |      Returns True if the DE-9IM string code for the relationship between\n",
            " |      the geometries satisfies the pattern, else False\n",
            " |  \n",
            " |  representative_point(self)\n",
            " |      Returns a point guaranteed to be within the object, cheaply.\n",
            " |      \n",
            " |      Alias of `point_on_surface`.\n",
            " |  \n",
            " |  reverse(self)\n",
            " |      Returns a copy of this geometry with the order of coordinates reversed.\n",
            " |      \n",
            " |      If the geometry is a polygon with interior rings, the interior rings are also\n",
            " |      reversed.\n",
            " |      \n",
            " |      Points are unchanged.\n",
            " |      \n",
            " |      See also\n",
            " |      --------\n",
            " |      is_ccw : Checks if a geometry is clockwise.\n",
            " |      \n",
            " |      Examples\n",
            " |      --------\n",
            " |      >>> from shapely import LineString, Polygon\n",
            " |      >>> LineString([(0, 0), (1, 2)]).reverse()\n",
            " |      <LINESTRING (1 2, 0 0)>\n",
            " |      >>> Polygon([(0, 0), (1, 0), (1, 1), (0, 1), (0, 0)]).reverse()\n",
            " |      <POLYGON ((0 0, 0 1, 1 1, 1 0, 0 0))>\n",
            " |  \n",
            " |  segmentize(self, max_segment_length)\n",
            " |      Adds vertices to line segments based on maximum segment length.\n",
            " |      \n",
            " |      Additional vertices will be added to every line segment in an input geometry\n",
            " |      so that segments are no longer than the provided maximum segment length. New\n",
            " |      vertices will evenly subdivide each segment.\n",
            " |      \n",
            " |      Only linear components of input geometries are densified; other geometries\n",
            " |      are returned unmodified.\n",
            " |      \n",
            " |      Parameters\n",
            " |      ----------\n",
            " |      max_segment_length : float or array_like\n",
            " |          Additional vertices will be added so that all line segments are no\n",
            " |          longer this value.  Must be greater than 0.\n",
            " |      \n",
            " |      Examples\n",
            " |      --------\n",
            " |      >>> from shapely import LineString, Polygon\n",
            " |      >>> LineString([(0, 0), (0, 10)]).segmentize(max_segment_length=5)\n",
            " |      <LINESTRING (0 0, 0 5, 0 10)>\n",
            " |      >>> Polygon([(0, 0), (10, 0), (10, 10), (0, 10), (0, 0)]).segmentize(max_segment_length=5)\n",
            " |      <POLYGON ((0 0, 5 0, 10 0, 10 5, 10 10, 5 10, 0 10, 0 5, 0 0))>\n",
            " |  \n",
            " |  simplify(self, tolerance, preserve_topology=True)\n",
            " |      Returns a simplified geometry produced by the Douglas-Peucker\n",
            " |      algorithm\n",
            " |      \n",
            " |      Coordinates of the simplified geometry will be no more than the\n",
            " |      tolerance distance from the original. Unless the topology preserving\n",
            " |      option is used, the algorithm may produce self-intersecting or\n",
            " |      otherwise invalid geometries.\n",
            " |  \n",
            " |  symmetric_difference(self, other, grid_size=None)\n",
            " |      Returns the symmetric difference of the geometries.\n",
            " |      \n",
            " |      Refer to `shapely.symmetric_difference` for full documentation.\n",
            " |  \n",
            " |  touches(self, other)\n",
            " |      Returns True if geometries touch, else False\n",
            " |  \n",
            " |  union(self, other, grid_size=None)\n",
            " |      Returns the union of the geometries.\n",
            " |      \n",
            " |      Refer to `shapely.union` for full documentation.\n",
            " |  \n",
            " |  within(self, other)\n",
            " |      Returns True if geometry is within the other, else False\n",
            " |  \n",
            " |  ----------------------------------------------------------------------\n",
            " |  Readonly properties inherited from shapely.geometry.base.BaseGeometry:\n",
            " |  \n",
            " |  area\n",
            " |      Unitless area of the geometry (float)\n",
            " |  \n",
            " |  boundary\n",
            " |      Returns a lower dimension geometry that bounds the object\n",
            " |      \n",
            " |      The boundary of a polygon is a line, the boundary of a line is a\n",
            " |      collection of points. The boundary of a point is an empty (null)\n",
            " |      collection.\n",
            " |  \n",
            " |  bounds\n",
            " |      Returns minimum bounding region (minx, miny, maxx, maxy)\n",
            " |  \n",
            " |  centroid\n",
            " |      Returns the geometric center of the object\n",
            " |  \n",
            " |  convex_hull\n",
            " |      Imagine an elastic band stretched around the geometry: that's a\n",
            " |      convex hull, more or less\n",
            " |      \n",
            " |      The convex hull of a three member multipoint, for example, is a\n",
            " |      triangular polygon.\n",
            " |  \n",
            " |  envelope\n",
            " |      A figure that envelopes the geometry\n",
            " |  \n",
            " |  geom_type\n",
            " |      Name of the geometry's type, such as 'Point'\n",
            " |  \n",
            " |  has_z\n",
            " |      True if the geometry's coordinate sequence(s) have z values (are\n",
            " |      3-dimensional)\n",
            " |  \n",
            " |  is_closed\n",
            " |      True if the geometry is closed, else False\n",
            " |      \n",
            " |      Applicable only to 1-D geometries.\n",
            " |  \n",
            " |  is_empty\n",
            " |      True if the set of points in this geometry is empty, else False\n",
            " |  \n",
            " |  is_ring\n",
            " |      True if the geometry is a closed ring, else False\n",
            " |  \n",
            " |  is_simple\n",
            " |      True if the geometry is simple, meaning that any self-intersections\n",
            " |      are only at boundary points, else False\n",
            " |  \n",
            " |  is_valid\n",
            " |      True if the geometry is valid (definition depends on sub-class),\n",
            " |      else False\n",
            " |  \n",
            " |  length\n",
            " |      Unitless length of the geometry (float)\n",
            " |  \n",
            " |  minimum_clearance\n",
            " |      Unitless distance by which a node could be moved to produce an invalid geometry (float)\n",
            " |  \n",
            " |  minimum_rotated_rectangle\n",
            " |      Returns the oriented envelope (minimum rotated rectangle) that\n",
            " |      encloses the geometry.\n",
            " |      \n",
            " |      Unlike `envelope` this rectangle is not constrained to be parallel to the\n",
            " |      coordinate axes. If the convex hull of the object is a degenerate (line\n",
            " |      or point) this degenerate is returned.\n",
            " |      \n",
            " |      Alias of `oriented_envelope`.\n",
            " |  \n",
            " |  oriented_envelope\n",
            " |      Returns the oriented envelope (minimum rotated rectangle) that\n",
            " |      encloses the geometry.\n",
            " |      \n",
            " |      Unlike envelope this rectangle is not constrained to be parallel to the\n",
            " |      coordinate axes. If the convex hull of the object is a degenerate (line\n",
            " |      or point) this degenerate is returned.\n",
            " |      \n",
            " |      Alias of `minimum_rotated_rectangle`.\n",
            " |  \n",
            " |  type\n",
            " |  \n",
            " |  wkb\n",
            " |      WKB representation of the geometry\n",
            " |  \n",
            " |  wkb_hex\n",
            " |      WKB hex representation of the geometry\n",
            " |  \n",
            " |  wkt\n",
            " |      WKT representation of the geometry\n",
            " |  \n",
            " |  xy\n",
            " |      Separate arrays of X and Y coordinate values\n",
            " |  \n",
            " |  ----------------------------------------------------------------------\n",
            " |  Methods inherited from shapely.lib.Geometry:\n",
            " |  \n",
            " |  __eq__(self, value, /)\n",
            " |      Return self==value.\n",
            " |  \n",
            " |  __ge__(self, value, /)\n",
            " |      Return self>=value.\n",
            " |  \n",
            " |  __gt__(self, value, /)\n",
            " |      Return self>value.\n",
            " |  \n",
            " |  __hash__(self, /)\n",
            " |      Return hash(self).\n",
            " |  \n",
            " |  __le__(self, value, /)\n",
            " |      Return self<=value.\n",
            " |  \n",
            " |  __lt__(self, value, /)\n",
            " |      Return self<value.\n",
            " |  \n",
            " |  __ne__(self, value, /)\n",
            " |      Return self!=value.\n",
            " |  \n",
            " |  __setstate__(...)\n",
            " |      For unpickling pre-shapely 2.0 pickles\n",
            "\n"
          ]
        }
      ],
      "source": [
        "# Check the help for Polygon objects:\n",
        "help(Polygon)"
      ]
    },
    {
      "cell_type": "markdown",
      "id": "2e54410c",
      "metadata": {
        "id": "2e54410c"
      },
      "source": [
        "\n",
        "\n",
        "As the help of [Polygon](https://shapely.readthedocs.io/en/stable/manual.html#polygons) -object tells, a Polygon can be constructed using exterior coordinates and interior coordinates (optional) where the interior coordinates creates a hole inside the Polygon:\n"
      ]
    },
    {
      "cell_type": "markdown",
      "id": "61c626f7",
      "metadata": {
        "id": "61c626f7"
      },
      "source": [
        "Let's see how we can create a `Polygon` with a hole:"
      ]
    },
    {
      "cell_type": "code",
      "execution_count": 17,
      "id": "22790500",
      "metadata": {
        "id": "22790500"
      },
      "outputs": [],
      "source": [
        "# Define the outer border\n",
        "border = [(-180, 90), (-180, -90), (180, -90), (180, 90)]"
      ]
    },
    {
      "cell_type": "code",
      "execution_count": 18,
      "id": "b6ee44e8",
      "metadata": {
        "id": "b6ee44e8",
        "colab": {
          "base_uri": "https://localhost:8080/"
        },
        "outputId": "87e1406c-5df9-46e6-f71e-df6bb60dd272"
      },
      "outputs": [
        {
          "output_type": "stream",
          "name": "stdout",
          "text": [
            "POLYGON ((-180 90, -180 -90, 180 -90, 180 90, -180 90))\n"
          ]
        }
      ],
      "source": [
        "# Outer polygon\n",
        "world = Polygon(shell=border)\n",
        "print(world)"
      ]
    },
    {
      "cell_type": "code",
      "execution_count": 19,
      "id": "d810352c",
      "metadata": {
        "id": "d810352c",
        "colab": {
          "base_uri": "https://localhost:8080/",
          "height": 229
        },
        "outputId": "83f996a4-7dcd-49f5-8dc0-c2031b2f97cb"
      },
      "outputs": [
        {
          "output_type": "execute_result",
          "data": {
            "text/plain": [
              "<POLYGON ((-180 90, -180 -90, 180 -90, 180 90, -180 90))>"
            ],
            "image/svg+xml": "<svg xmlns=\"http://www.w3.org/2000/svg\" xmlns:xlink=\"http://www.w3.org/1999/xlink\" width=\"300\" height=\"208.8\" viewBox=\"-194.4 -104.4 388.8 208.8\" preserveAspectRatio=\"xMinYMin meet\"><g transform=\"matrix(1,0,0,-1,0,0.0)\"><path fill-rule=\"evenodd\" fill=\"#66cc99\" stroke=\"#555555\" stroke-width=\"2.592\" opacity=\"0.6\" d=\"M -180.0,90.0 L -180.0,-90.0 L 180.0,-90.0 L 180.0,90.0 L -180.0,90.0 z\" /></g></svg>"
          },
          "metadata": {},
          "execution_count": 19
        }
      ],
      "source": [
        "world"
      ]
    },
    {
      "cell_type": "code",
      "execution_count": 20,
      "id": "8d3b3211",
      "metadata": {
        "id": "8d3b3211"
      },
      "outputs": [],
      "source": [
        "# Let's create a single big hole where we leave ten units at the boundaries\n",
        "# Note: there could be multiple holes, so we need to provide list of coordinates for the hole inside a list\n",
        "hole = [[(-170, 80), (-170, -80), (170, -80), (170, 80)]]"
      ]
    },
    {
      "cell_type": "code",
      "execution_count": null,
      "id": "259ac339",
      "metadata": {
        "id": "259ac339"
      },
      "outputs": [],
      "source": [
        "# Now we can construct our Polygon with the hole inside\n",
        "frame = Polygon(shell=border, holes=hole)\n",
        "print(frame)"
      ]
    },
    {
      "cell_type": "markdown",
      "id": "b793b4b0",
      "metadata": {
        "id": "b793b4b0"
      },
      "source": [
        "Let's see what we have now:"
      ]
    },
    {
      "cell_type": "code",
      "execution_count": null,
      "id": "1231ea6d",
      "metadata": {
        "id": "1231ea6d"
      },
      "outputs": [],
      "source": [
        "frame"
      ]
    },
    {
      "cell_type": "markdown",
      "id": "25f57785",
      "metadata": {
        "id": "25f57785"
      },
      "source": [
        "As we can see the `Polygon` has now two different tuples of coordinates. The first one represents the **outerior** and the second one represents the **hole** inside of the Polygon."
      ]
    },
    {
      "cell_type": "markdown",
      "id": "dff149f0",
      "metadata": {
        "id": "dff149f0"
      },
      "source": [
        "### Polygon attributes and functions\n",
        "\n",
        "\n",
        "We can again access different attributes directly from the `Polygon` object itself that can be really useful for many analyses, such as `area`, `centroid`, `bounding box`, `exterior`, and `exterior-length`. See a full list of methods in the [Shapely User Manual](https://shapely.readthedocs.io/en/stable/manual.html#the-shapely-user-manual).\n",
        "\n",
        "Here, we can see a few of the available attributes and how to access them:"
      ]
    },
    {
      "cell_type": "code",
      "execution_count": 21,
      "id": "5822ab02",
      "metadata": {
        "id": "5822ab02",
        "colab": {
          "base_uri": "https://localhost:8080/"
        },
        "outputId": "9a61ef82-181d-4a65-bb7f-fdb605e8e4fd"
      },
      "outputs": [
        {
          "output_type": "stream",
          "name": "stdout",
          "text": [
            "Polygon centroid: POINT (0 0)\n",
            "Polygon Area: 64800.0\n",
            "Polygon Bounding Box: (-180.0, -90.0, 180.0, 90.0)\n",
            "Polygon Exterior: LINEARRING (-180 90, -180 -90, 180 -90, 180 90, -180 90)\n",
            "Polygon Exterior Length: 1080.0\n"
          ]
        }
      ],
      "source": [
        "# Print the outputs\n",
        "print(f\"Polygon centroid: {world.centroid}\")\n",
        "print(f\"Polygon Area: {world.area}\")\n",
        "print(f\"Polygon Bounding Box: {world.bounds}\")\n",
        "print(f\"Polygon Exterior: {world.exterior}\")\n",
        "print(f\"Polygon Exterior Length: {world.exterior.length}\")"
      ]
    },
    {
      "cell_type": "markdown",
      "id": "b9ba48ed",
      "metadata": {
        "id": "b9ba48ed"
      },
      "source": [
        "As we can see above, it is again fairly straightforward to access different attributes from the `Polygon` -object. Note that distance metrics will make more sense when we start working with data in a projected coordinate system."
      ]
    },
    {
      "cell_type": "markdown",
      "id": "ce0c39c3",
      "metadata": {
        "id": "ce0c39c3"
      },
      "source": [
        "#### Check your understanding\n",
        "\n",
        "Plot these shapes using Shapely!\n",
        "\n",
        "- **Pentagon**, example coords: `(30, 2.01), (31.91, 0.62), (31.18, -1.63), (28.82, -1.63), (28.09, 0.62)` \n",
        "- **Triangle**   \n",
        "- **Square**    \n",
        "- **Circle**    \n"
      ]
    },
    {
      "cell_type": "code",
      "execution_count": null,
      "id": "6c8ce89d",
      "metadata": {
        "id": "6c8ce89d"
      },
      "outputs": [],
      "source": [
        "# Pentagon - Coordinates borrowed from this thread: https://tex.stackexchange.com/questions/179843/make-a-polygon-with-automatically-labelled-nodes-according-to-their-coordinates\n",
        "Polygon([(30, 2.01), (31.91, 0.62), (31.18, -1.63), (28.82, -1.63), (28.09, 0.62)])"
      ]
    },
    {
      "cell_type": "code",
      "execution_count": null,
      "id": "711b4595",
      "metadata": {
        "id": "711b4595"
      },
      "outputs": [],
      "source": [
        "# Triangle\n"
      ]
    },
    {
      "cell_type": "code",
      "execution_count": null,
      "id": "448d107f",
      "metadata": {
        "id": "448d107f"
      },
      "outputs": [],
      "source": [
        "# Square\n"
      ]
    },
    {
      "cell_type": "code",
      "execution_count": null,
      "id": "b200753e",
      "metadata": {
        "id": "b200753e"
      },
      "outputs": [],
      "source": [
        "# Circle (using a buffer around a point)\n"
      ]
    },
    {
      "cell_type": "code",
      "execution_count": 26,
      "id": "5df2bd9e",
      "metadata": {
        "id": "5df2bd9e",
        "colab": {
          "base_uri": "https://localhost:8080/",
          "height": 121
        },
        "outputId": "0b9a77fe-7d64-457e-936e-830b10a6dfc4"
      },
      "outputs": [
        {
          "output_type": "execute_result",
          "data": {
            "text/plain": [
              "<MULTIPOINT (2.2 4.2, 7.2 -25.1, 9.26 -2.456)>"
            ],
            "image/svg+xml": "<svg xmlns=\"http://www.w3.org/2000/svg\" xmlns:xlink=\"http://www.w3.org/1999/xlink\" width=\"100.0\" height=\"100.0\" viewBox=\"1.028 -26.272000000000002 9.404 31.644000000000002\" preserveAspectRatio=\"xMinYMin meet\"><g transform=\"matrix(1,0,0,-1,0,-20.900000000000002)\"><g><circle cx=\"2.2\" cy=\"4.2\" r=\"0.9493199999999999\" stroke=\"#555555\" stroke-width=\"0.31644\" fill=\"#66cc99\" opacity=\"0.6\" /><circle cx=\"7.2\" cy=\"-25.1\" r=\"0.9493199999999999\" stroke=\"#555555\" stroke-width=\"0.31644\" fill=\"#66cc99\" opacity=\"0.6\" /><circle cx=\"9.26\" cy=\"-2.456\" r=\"0.9493199999999999\" stroke=\"#555555\" stroke-width=\"0.31644\" fill=\"#66cc99\" opacity=\"0.6\" /></g></g></svg>"
          },
          "metadata": {},
          "execution_count": 26
        }
      ],
      "source": [
        "# Check input geometry\n",
        "multi_point"
      ]
    },
    {
      "cell_type": "code",
      "execution_count": 27,
      "id": "5a3fbc6c",
      "metadata": {
        "id": "5a3fbc6c",
        "colab": {
          "base_uri": "https://localhost:8080/",
          "height": 121
        },
        "outputId": "bea204bf-8ebc-427d-fe17-d77add7f9708"
      },
      "outputs": [
        {
          "output_type": "execute_result",
          "data": {
            "text/plain": [
              "<POLYGON ((7.2 -25.1, 2.2 4.2, 9.26 -2.456, 7.2 -25.1))>"
            ],
            "image/svg+xml": "<svg xmlns=\"http://www.w3.org/2000/svg\" xmlns:xlink=\"http://www.w3.org/1999/xlink\" width=\"100.0\" height=\"100.0\" viewBox=\"1.028 -26.272000000000002 9.404 31.644000000000002\" preserveAspectRatio=\"xMinYMin meet\"><g transform=\"matrix(1,0,0,-1,0,-20.900000000000002)\"><path fill-rule=\"evenodd\" fill=\"#66cc99\" stroke=\"#555555\" stroke-width=\"0.63288\" opacity=\"0.6\" d=\"M 7.2,-25.1 L 2.2,4.2 L 9.26,-2.456 L 7.2,-25.1 z\" /></g></svg>"
          },
          "metadata": {},
          "execution_count": 27
        }
      ],
      "source": [
        "# Convex Hull (smallest polygon around the geometry collection)\n",
        "multi_point.convex_hull"
      ]
    },
    {
      "cell_type": "code",
      "execution_count": 30,
      "id": "924afdef",
      "metadata": {
        "id": "924afdef",
        "colab": {
          "base_uri": "https://localhost:8080/",
          "height": 121
        },
        "outputId": "4e84af43-5848-42fc-d8f2-1623311b620e"
      },
      "outputs": [
        {
          "output_type": "execute_result",
          "data": {
            "text/plain": [
              "<POLYGON ((2.2 -25.1, 9.26 -25.1, 9.26 4.2, 2.2 4.2, 2.2 -25.1))>"
            ],
            "image/svg+xml": "<svg xmlns=\"http://www.w3.org/2000/svg\" xmlns:xlink=\"http://www.w3.org/1999/xlink\" width=\"100.0\" height=\"100.0\" viewBox=\"1.028 -26.272000000000002 9.404 31.644000000000002\" preserveAspectRatio=\"xMinYMin meet\"><g transform=\"matrix(1,0,0,-1,0,-20.900000000000002)\"><path fill-rule=\"evenodd\" fill=\"#66cc99\" stroke=\"#555555\" stroke-width=\"0.63288\" opacity=\"0.6\" d=\"M 2.2,-25.1 L 9.26,-25.1 L 9.26,4.2 L 2.2,4.2 L 2.2,-25.1 z\" /></g></svg>"
          },
          "metadata": {},
          "execution_count": 30
        }
      ],
      "source": [
        "# Envelope (smalles rectangular polygon around the geometry collection): \n",
        "multi_point.envelope"
      ]
    },
    {
      "cell_type": "code",
      "source": [],
      "metadata": {
        "id": "IAitAhAT0SHt"
      },
      "id": "IAitAhAT0SHt",
      "execution_count": null,
      "outputs": []
    }
  ],
  "metadata": {
    "kernelspec": {
      "display_name": "Python 3 (ipykernel)",
      "language": "python",
      "name": "python3"
    },
    "language_info": {
      "codemirror_mode": {
        "name": "ipython",
        "version": 3
      },
      "file_extension": ".py",
      "mimetype": "text/x-python",
      "name": "python",
      "nbconvert_exporter": "python",
      "pygments_lexer": "ipython3",
      "version": "3.9.13"
    },
    "colab": {
      "provenance": []
    }
  },
  "nbformat": 4,
  "nbformat_minor": 5
}
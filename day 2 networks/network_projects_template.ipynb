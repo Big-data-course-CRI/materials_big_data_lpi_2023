{
 "cells": [
  {
   "cell_type": "markdown",
   "metadata": {},
   "source": [
    "# Network project presentation (template)\n",
    "\n",
    "@insert your name\n",
    "\n",
    "# Content\n",
    "\n",
    "0. Title of the project\n",
    "1. Introduction and motivation (explain here why you started to work on this topic)\n",
    "2. Choosing the dataset, overview of available dataset, loading data\n",
    "3. Numerical or analytical results\n",
    "4. Conclusions\n",
    "\n",
    "## Title\n",
    "\n",
    "\n",
    "# How to use Markdown \n",
    "\n",
    "Inserting image of example network; include folder where you have your picture, e.g.`/plots/clustrrering.png`\n",
    "<img src=\"plots/clustrrering.png\" alt=\"Drawing\" style=\"width: 200px;\"/>\n",
    "\n",
    "\n",
    "# How to use github \n",
    "https://product.hubspot.com/blog/git-and-github-tutorial-for-beginners"
   ]
  },
  {
   "cell_type": "markdown",
   "metadata": {},
   "source": [
    "# Introduction \n",
    "1. (insert slides or images to explain motivation)\n",
    "2. (insert research quesitons)"
   ]
  },
  {
   "cell_type": "code",
   "execution_count": null,
   "metadata": {},
   "outputs": [],
   "source": []
  },
  {
   "cell_type": "markdown",
   "metadata": {},
   "source": [
    "# Dataset description\n",
    "1. (include here link to the dataset) OR\n",
    "2. (describe how the dataset was collected, scrapped etc.)"
   ]
  },
  {
   "cell_type": "code",
   "execution_count": null,
   "metadata": {},
   "outputs": [],
   "source": []
  },
  {
   "cell_type": "markdown",
   "metadata": {},
   "source": [
    "# Results\n",
    "1. (numerical)\n",
    "2. (analytical)"
   ]
  },
  {
   "cell_type": "code",
   "execution_count": null,
   "metadata": {},
   "outputs": [],
   "source": []
  },
  {
   "cell_type": "code",
   "execution_count": null,
   "metadata": {},
   "outputs": [],
   "source": [
    "# Conclussions"
   ]
  }
 ],
 "metadata": {
  "kernelspec": {
   "display_name": "Python 3",
   "language": "python",
   "name": "python3"
  },
  "language_info": {
   "codemirror_mode": {
    "name": "ipython",
    "version": 3
   },
   "file_extension": ".py",
   "mimetype": "text/x-python",
   "name": "python",
   "nbconvert_exporter": "python",
   "pygments_lexer": "ipython3",
   "version": "3.7.3"
  }
 },
 "nbformat": 4,
 "nbformat_minor": 2
}
